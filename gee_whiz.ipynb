{
 "cells": [
  {
   "cell_type": "markdown",
   "id": "f313ac6a-89fd-4abd-a53a-f23d18b671a1",
   "metadata": {},
   "source": [
    "## Assignment 2: Learning About Datasets\n",
    "\n",
    "Allie Cole, Clarissa Boyajian, Scout Leonard"
   ]
  },
  {
   "cell_type": "code",
   "execution_count": 1,
   "id": "0df895d7-bccb-44af-88f3-6577a99199c5",
   "metadata": {},
   "outputs": [],
   "source": [
    "# Import packages\n",
    "import ee\n",
    "import geemap\n",
    "import pandas as pd\n",
    "import matplotlib.pyplot as plt\n",
    "import numpy as np"
   ]
  },
  {
   "cell_type": "code",
   "execution_count": 2,
   "id": "81edf6ab-9fbb-4cb8-9ae6-fc5c42104da9",
   "metadata": {},
   "outputs": [
    {
     "data": {
      "text/html": [
       "<p>To authorize access needed by Earth Engine, open the following\n",
       "        URL in a web browser and follow the instructions:</p>\n",
       "        <p><a href=https://accounts.google.com/o/oauth2/auth?client_id=517222506229-vsmmajv00ul0bs7p89v5m89qs8eb9359.apps.googleusercontent.com&scope=https%3A%2F%2Fwww.googleapis.com%2Fauth%2Fearthengine+https%3A%2F%2Fwww.googleapis.com%2Fauth%2Fdevstorage.full_control&redirect_uri=urn%3Aietf%3Awg%3Aoauth%3A2.0%3Aoob&response_type=code&code_challenge=DUUzVvX7AFYUFgWXm2OHdVcPJ_tr20XCFhN2sOqANcQ&code_challenge_method=S256>https://accounts.google.com/o/oauth2/auth?client_id=517222506229-vsmmajv00ul0bs7p89v5m89qs8eb9359.apps.googleusercontent.com&scope=https%3A%2F%2Fwww.googleapis.com%2Fauth%2Fearthengine+https%3A%2F%2Fwww.googleapis.com%2Fauth%2Fdevstorage.full_control&redirect_uri=urn%3Aietf%3Awg%3Aoauth%3A2.0%3Aoob&response_type=code&code_challenge=DUUzVvX7AFYUFgWXm2OHdVcPJ_tr20XCFhN2sOqANcQ&code_challenge_method=S256</a></p>\n",
       "        <p>The authorization workflow will generate a code, which you\n",
       "        should paste in the box below</p>\n",
       "        "
      ],
      "text/plain": [
       "<IPython.core.display.HTML object>"
      ]
     },
     "metadata": {},
     "output_type": "display_data"
    },
    {
     "name": "stdin",
     "output_type": "stream",
     "text": [
      "Enter verification code:  4/1AX4XfWjq9p-L6AuYJNzRAljflkbxdc7wLFxFH1LZ--vqPgQmH2utFtZIJ-4\n"
     ]
    },
    {
     "name": "stdout",
     "output_type": "stream",
     "text": [
      "\n",
      "Successfully saved authorization token.\n"
     ]
    }
   ],
   "source": [
    "ee.Authenticate()\n",
    "ee.Initialize()"
   ]
  },
  {
   "cell_type": "markdown",
   "id": "7b08c996-100b-4cd6-9e4b-6990286c321c",
   "metadata": {},
   "source": [
    "### 1.) Write code to load in the dataset \n",
    "\n",
    "The dataset we are interested in is Landsat8. We add the dataset in the code chunk below using the Google Earth Engine (GEE) API."
   ]
  },
  {
   "cell_type": "code",
   "execution_count": 3,
   "id": "749f0b2d-cd48-4dfa-b858-5f6c428f6ef6",
   "metadata": {},
   "outputs": [],
   "source": [
    "gdat = ee.ImageCollection(\"LANDSAT/LC08/C01/T1_SR\")"
   ]
  },
  {
   "cell_type": "markdown",
   "id": "a9b21725-da12-492a-80e9-1f87f8cf676f",
   "metadata": {},
   "source": [
    "Next, we create a test image from the first image in the Landsat8 dataset. We will use this to explore the features of the images in the collection. "
   ]
  },
  {
   "cell_type": "code",
   "execution_count": 4,
   "id": "0d41ec12-8241-4c8a-ab21-9ba128f3b57d",
   "metadata": {},
   "outputs": [],
   "source": [
    "# pull the first image in the collection \n",
    "testimg = gdat.first()"
   ]
  },
  {
   "cell_type": "code",
   "execution_count": 5,
   "id": "f3c5d627-8a43-4f55-a202-a8e664ae038d",
   "metadata": {},
   "outputs": [
    {
     "data": {
      "text/plain": [
       "\"['B1', 'B2', 'B3', 'B4', 'B5', 'B6', 'B7', 'B10', 'B11', 'sr_aerosol', 'pixel_qa', 'radsat_qa']\""
      ]
     },
     "execution_count": 5,
     "metadata": {},
     "output_type": "execute_result"
    }
   ],
   "source": [
    "#extract a list containing the names of the bands \n",
    "bands = testimg.bandNames()\n",
    "str(bands.getInfo())"
   ]
  },
  {
   "cell_type": "code",
   "execution_count": 6,
   "id": "39d623ff-f3ba-476d-a8f3-4191df181a1d",
   "metadata": {},
   "outputs": [],
   "source": [
    "#select mangrove region (Sundarabans, in Bangladesh) to explore Landsat8 data for\n",
    "\n",
    "#lat and lon for Sundarabans mangrove forest\n",
    "sundarbans_lon = 89\n",
    "sundarbans_lat = 21.37\n",
    "\n",
    "#create point of interest for Sundarabans \n",
    "sundarbans_poi = ee.Geometry.Point(sundarbans_lon, sundarbans_lat)\n",
    "scale = 1000   # scale in m"
   ]
  },
  {
   "cell_type": "code",
   "execution_count": 7,
   "id": "9056ac0c-f691-42e6-a843-997050fefdc8",
   "metadata": {},
   "outputs": [],
   "source": [
    "#explore a data feature of the Landsat images; we chose Band 2\n",
    "B2 = gdat.select('B2')\n",
    "sundarbans_B2 = B2.getRegion(sundarbans_poi, scale).getInfo()"
   ]
  },
  {
   "cell_type": "code",
   "execution_count": 8,
   "id": "63740530-bae4-4a28-bed7-80490620168b",
   "metadata": {},
   "outputs": [
    {
     "name": "stdout",
     "output_type": "stream",
     "text": [
      "                        0          1          2              3     4\n",
      "0                      id  longitude   latitude           time    B2\n",
      "1    LC08_138045_20130708  89.000587  21.366429  1373258003390  1091\n",
      "2    LC08_138045_20130724  89.000587  21.366429  1374640402070  1587\n",
      "3    LC08_138045_20130825  89.000587  21.366429  1377405206730  1102\n",
      "4    LC08_138045_20130910  89.000587  21.366429  1378787604620   198\n",
      "..                    ...        ...        ...            ...   ...\n",
      "156  LC08_138045_20210714  89.000587  21.366429  1626237078562  3196\n",
      "157  LC08_138045_20210815  89.000587  21.366429  1629001892732  3953\n",
      "158  LC08_138045_20210831  89.000587  21.366429  1630384297322  2219\n",
      "159  LC08_138045_20210916  89.000587  21.366429  1631766701206   951\n",
      "160  LC08_138045_20211002  89.000587  21.366429  1633149105920   550\n",
      "\n",
      "[161 rows x 5 columns]\n"
     ]
    }
   ],
   "source": [
    "#create a dataframe using Band 2 measurements for Sundarabans mangrove forest over time \n",
    "df = pd.DataFrame(sundarbans_B2)\n",
    "\n",
    "print(df)"
   ]
  },
  {
   "cell_type": "markdown",
   "id": "e5d29cd0-aa03-44e0-82e4-7cbf564b0aea",
   "metadata": {},
   "source": [
    "[Landsat 8](https://developers.google.com/earth-engine/datasets/catalog/landsat-8) data is accessible through GEE, and the data collection is supported jointly by NASA and the USGS. \n",
    "Landsat 8 data can be downloaded in many different formats depending on how you want to manipulate it. Various products offer varying combinations of bands. The data found in these products comes from USGS in the form of .TIFFs and .JPEGs. \n",
    "\n",
    "[Metadata](https://developers.google.com/earth-engine/datasets/catalog/LANDSAT_LC08_C01_T1_SR) on GEE describes how the data were collected (atmospherically corrected surface reflectance from the Landsat 8 OLI/TIRS sensors). It also describes the contents of the .TIFF and .JPEG images in the dataset: 5 visible and near-infared (VNIR) bands, 2 short-wave infared (SWIR), and 2 thermal infared (TIR) bands, with short descriptions about how these were processed. It includes links to USGS descriptions of band metadata. "
   ]
  },
  {
   "cell_type": "markdown",
   "id": "493607b1-8eae-4fcd-b018-d22f4c761824",
   "metadata": {},
   "source": [
    "### 2.) Investigate data quality\n",
    "\n",
    "Landsat 8 revisits a location every 8-16 days, which is at a much higher rate when compared to most other satellites. Additionally, Landsat 8 captures the multispectral bands necessary for vegetation indexes, such as Normalized Difference Vegetation Index (NDVI). The Landsat 8 resolution is 30 meters (visible, NIR, SWIR); 100 meters (thermal); and 15 meters (panchromatic). \n",
    "\n",
    "The frequent revisitation rate and free access makes this a good dataset for our purposes. The downside to this data is the lower resolution. This lower resolution impacts the ability to accurately calculate vegetation coverage percentages. Mangroves are not a homogeneous land cover type, however many analyses of mangroves (such as NDVI) treat each image as a single land cover type. A single image can contain mangroves, as well as sand, water, and other debris/detritus. \n",
    "\n",
    "One solution to this is to use mutliple indices in order to more accurately calculate the canopy coverage percentage of one type of vegetation without needing higher resolution images."
   ]
  },
  {
   "cell_type": "markdown",
   "id": "91550d29-6fde-469b-b53f-9be8bbfe82e1",
   "metadata": {},
   "source": [
    "### 3.) Consider appropriate use cases\n",
    "\n",
    "Landsat 8 is the best option for projects with limited financial resources or that are located in remote locations, as it is freely available and covers the globe. For projects with the ability, we would recommend that they pay for higher resolution imagery. For projects using Landsat 8, we would recommend using multiple indices in order to increase the accuracy of land coverage estimates. We will be using the 30m resolution images as those are the bands appropriate to our analysis. We will be calculating NDVI as well as Normalized Difference Infrared Index (NDII). \n",
    "\n",
    "\n"
   ]
  },
  {
   "cell_type": "code",
   "execution_count": 54,
   "id": "ea7c7abc-9e48-4191-8137-d7d1e6b66198",
   "metadata": {},
   "outputs": [],
   "source": [
    "#select the region: Cacheu National Park Mangrove Forest\n",
    "\n",
    "gb_lat = 12.1582165861\n",
    "gb_lon = -16.283462202\n",
    "pt = ee.Geometry.Point(gb_lon, gb_lat)"
   ]
  },
  {
   "cell_type": "code",
   "execution_count": 55,
   "id": "fd6ca392-f806-46eb-a379-601a3b17d458",
   "metadata": {},
   "outputs": [],
   "source": [
    "#filter image collection using our point in Chacheu National Park Mangrove Forest\n",
    "gdat_filt = gdat.filterBounds(pt)"
   ]
  },
  {
   "cell_type": "code",
   "execution_count": 56,
   "id": "94a2489a-dfc8-46af-8caa-add867367dcd",
   "metadata": {},
   "outputs": [],
   "source": [
    "# Function to calculate NDVI for a given input image\n",
    "def addNDVI(image):\n",
    "    red = image.select('B4')\n",
    "    nir = image.select('B5')\n",
    "    \n",
    "    ndvi = (nir.subtract(red)).divide((nir.add(red))).rename('NDVI')\n",
    "    \n",
    "    return image.addBands(ndvi)\n",
    "\n",
    "\n",
    "# apply fuction to all\n",
    "gdat_withndvi = gdat_filt.map(addNDVI) \n",
    "\n",
    "#create visable parameters \n",
    "\n",
    "ndviParams = {'bands': 'NDVI',\n",
    "              'min': -1, \n",
    "              'max': 1, \n",
    "              'palette': ['blue', 'white', 'green']\n",
    "             }"
   ]
  },
  {
   "cell_type": "code",
   "execution_count": 62,
   "id": "4d6edffe-85c5-4173-b89b-84db096c431b",
   "metadata": {},
   "outputs": [],
   "source": [
    "#filter out the cloudy images \n",
    "dat_nocld = gdat_withndvi.filter('CLOUD_COVER < 20')\n",
    "\n",
    "#filter for the time period 2014 and create a temporal average \n",
    "date_2014 = dat_nocld.filter(ee.Filter.date('2014-01-01', '2014-12-31')).mean();\n",
    "\n",
    "#creating the basemap \n",
    "map_ndvi = geemap.Map(center = [gb_lat, gb_lon], zoom = 12)\n",
    "\n",
    "#add 2014 NDVI layer to map\n",
    "map_ndvi.addLayer(date_2014, ndviParams, \"2014\")"
   ]
  },
  {
   "cell_type": "code",
   "execution_count": 59,
   "id": "db423a82-30a7-484c-9697-3a47172ea84e",
   "metadata": {},
   "outputs": [],
   "source": [
    "#Now adding a 2019 layer \n",
    "\n",
    "#filter for the time period 2019 and create a temporal average \n",
    "date_2019 = dat_nocld.filter(ee.Filter.date('2019-01-01', '2019-12-31')).mean();\n",
    "\n",
    "#add 2019 NDVI layer to map\n",
    "map_ndvi.addLayer(date_2019, ndviParams, \"2019\")"
   ]
  },
  {
   "cell_type": "code",
   "execution_count": 61,
   "id": "fb484ec8-b985-44fd-8de4-63d313a27834",
   "metadata": {},
   "outputs": [],
   "source": [
    "#calling the map \n",
    "#map_ndvi"
   ]
  },
  {
   "cell_type": "code",
   "execution_count": null,
   "id": "e5f60523-cc5f-47f2-83b5-61a26e69b9bb",
   "metadata": {},
   "outputs": [],
   "source": []
  }
 ],
 "metadata": {
  "kernelspec": {
   "display_name": "Python 3 (ipykernel)",
   "language": "python",
   "name": "python3"
  },
  "language_info": {
   "codemirror_mode": {
    "name": "ipython",
    "version": 3
   },
   "file_extension": ".py",
   "mimetype": "text/x-python",
   "name": "python",
   "nbconvert_exporter": "python",
   "pygments_lexer": "ipython3",
   "version": "3.9.7"
  }
 },
 "nbformat": 4,
 "nbformat_minor": 5
}
