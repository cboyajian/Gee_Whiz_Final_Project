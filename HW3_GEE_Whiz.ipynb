{
 "cells": [
  {
   "cell_type": "markdown",
   "id": "2646a34e-a634-47ac-9fe7-73bf40ece8ae",
   "metadata": {},
   "source": [
    "# HW3 GEE_Whiz: Dataset Overview and Use Case Examples\n",
    "## EDS 220, Fall 2021"
   ]
  },
  {
   "cell_type": "markdown",
   "id": "56a405bf-2d38-4175-a931-f52905e11211",
   "metadata": {},
   "source": [
    "## Mangrove Canopy Coverage from LANDSAT 8 Before and After Restoration"
   ]
  },
  {
   "cell_type": "markdown",
   "id": "dc47afd0-adb0-4d5b-8903-992b7904322e",
   "metadata": {},
   "source": [
    "## Authors\n",
    "- Allie Cole, UC Santa Barbara (icole@bren.ucsb.edu) <br>\n",
    "  https://alliecole.github.io/\n",
    "- Clarissa Boyajia, UC Santa Barbara (cboyajian@bren.ucsb.edu) <br>\n",
    "  https://cboyajian.github.io/\n",
    "- Scout Leonard, UC Santa Barbara (scout@bren.ucsb.edu) <br>\n",
    "  https://scoutcleonard.github.io/"
   ]
  },
  {
   "cell_type": "markdown",
   "id": "1e8c2013-fef1-44ac-bb00-3215807cacac",
   "metadata": {},
   "source": [
    "## Table of Contents\n",
    "\n",
    "[1. Purpose](#purpose)\n",
    "\n",
    "[2. Dataset Description](#overview)\n",
    "\n",
    "[3. Data I/O](#io)\n",
    "\n",
    "[4. Metadata Display and Basic Visualization](#display)\n",
    "\n",
    "[5. Use Case Examples](#usecases)\n",
    "\n",
    "[6. Create Binder Environment](#binder)\n",
    "\n",
    "[7. References](#references)"
   ]
  },
  {
   "cell_type": "markdown",
   "id": "ba52c6e3-3584-48be-b500-21578b61bd72",
   "metadata": {},
   "source": [
    "<a id='purpose'></a> \n",
    "### Notebook Purpose\n",
    "\n",
    "This notebook was created to give an overview and short tutorial on how to calculate mangrove canopy coverage percentages using data from the NASA & USGS Landsat 8 dataset. For the tutorial, we will focus on the Cacheu River Mangroves Natural Park in the Republic of Guinea-Bissau in West Africa where restoration efforts began in 2017."
   ]
  },
  {
   "cell_type": "markdown",
   "id": "d429260a-2c30-44da-a5af-e100a440056a",
   "metadata": {},
   "source": [
    "<a id='overview'></a> \n",
    "### Dataset Description\n",
    "\n",
    "The Landsat 8 data collection is supported jointly by NASA and hosted by the USGS. It is accessible through the Google Earth Engine (GEE) API. Landsat 8 data can be downloaded in many different formats depending on how you want to manipulate it. The data includes 9 bands: 5 visible and near-infared (NIR) bands, 2 short-wave infared (SWIR), and 2 thermal infared (TIR) bands. \n",
    "\n",
    "Various products offer varying combinations of bands. The data found in these products comes from USGS in the form of .TIFFs and .JPEGs.\n",
    "\n",
    "This dataset includes fully global coverage every 16 days. It incldues \n",
    "\n",
    "This portion of the notebook should contain a summary description of your chosen environmental dataset. In a few paragraphs, discuss:\n",
    "- The creators of the dataset: NASA/NOAA/other government agency? Nonprofit? etc.\n",
    "- Major characteristics of the dataset: global coverage? Spatial resolution? Temporal resolution? Creation date? \n",
    "- The file format(s) used to store the data: netCDF? CSV? Other?\n",
    "- The source/archive you will be using to retrieve the data: Google Earth Engine? Agency data portal? Other API?\n",
    "- Any known issues with data quality that might be expected to impact the results\n",
    "\n",
    "Include links to any external resources needed to access the data here, including either the location of files stored on an external server you've set up or the access URL for a pre-existing repository. You can also include any example images you find useful for motivating the choice of dataset (optional).\n"
   ]
  },
  {
   "cell_type": "markdown",
   "id": "02d5cb75-cb54-4708-8b88-459cae2ca17d",
   "metadata": {},
   "source": [
    "<a id='io'></a> \n",
    "### Dataset Input/Output \n",
    "\n",
    "Next, provide code to read in the data necessary for your analysis. This should be in the following order:\n",
    "\n",
    "1) Import all necessary packages (matplotlib, numpy, etc)\n",
    "\n",
    "2) Set any parameters that will be needed during subsequent portions of the notebook. Typical examples of parameters include:\n",
    "- names of any directories where data are stored\n",
    "- ranges of years over which data are valid\n",
    "- any thresholds or latitude/longitude ranges to be used later (e.g. dimensions of NINO3.4 region, threshold SSTA values for El Nino, etc.)\n",
    "\n",
    "3) Read in the data! If the data files are very large, you may want to consider subsetting the portion of files to be read in (see examples of this during notebooks provided in Weeks 7 and 8).\n",
    "\n",
    "_Since we will be running these notebooks in class during Weeks 9 and 10_, here is a good rule of thumb: It's good to aim for a relatively short amount of time needed to read in the data, since otherwise we'll be sitting around waiting for things to load for a long time. A  minute or two for data I/O is probably the max you'll want to target!"
   ]
  },
  {
   "cell_type": "code",
   "execution_count": 10,
   "id": "792b74ff-c389-4a4c-a755-554bdb33e522",
   "metadata": {},
   "outputs": [],
   "source": [
    "#import all necessary packages \n",
    "import ee\n",
    "import geemap\n",
    "import pandas as pd\n",
    "import matplotlib.pyplot as plt\n",
    "import numpy as np"
   ]
  },
  {
   "cell_type": "code",
   "execution_count": 11,
   "id": "45422ce4-648c-4a75-b23e-929d1f4eb5e3",
   "metadata": {},
   "outputs": [
    {
     "data": {
      "text/html": [
       "<p>To authorize access needed by Earth Engine, open the following\n",
       "        URL in a web browser and follow the instructions:</p>\n",
       "        <p><a href=https://accounts.google.com/o/oauth2/auth?client_id=517222506229-vsmmajv00ul0bs7p89v5m89qs8eb9359.apps.googleusercontent.com&scope=https%3A%2F%2Fwww.googleapis.com%2Fauth%2Fearthengine+https%3A%2F%2Fwww.googleapis.com%2Fauth%2Fdevstorage.full_control&redirect_uri=urn%3Aietf%3Awg%3Aoauth%3A2.0%3Aoob&response_type=code&code_challenge=pBHXnuwK2gWpU0u59jrPYTX__kkpNKlC3XPhfL4VJE4&code_challenge_method=S256>https://accounts.google.com/o/oauth2/auth?client_id=517222506229-vsmmajv00ul0bs7p89v5m89qs8eb9359.apps.googleusercontent.com&scope=https%3A%2F%2Fwww.googleapis.com%2Fauth%2Fearthengine+https%3A%2F%2Fwww.googleapis.com%2Fauth%2Fdevstorage.full_control&redirect_uri=urn%3Aietf%3Awg%3Aoauth%3A2.0%3Aoob&response_type=code&code_challenge=pBHXnuwK2gWpU0u59jrPYTX__kkpNKlC3XPhfL4VJE4&code_challenge_method=S256</a></p>\n",
       "        <p>The authorization workflow will generate a code, which you\n",
       "        should paste in the box below</p>\n",
       "        "
      ],
      "text/plain": [
       "<IPython.core.display.HTML object>"
      ]
     },
     "metadata": {},
     "output_type": "display_data"
    },
    {
     "name": "stdin",
     "output_type": "stream",
     "text": [
      "Enter verification code:  4/1AX4XfWi6Wv3mtiLIyQVXyiw1oi7QXqEWQtGFLWIuc4yP2g4jpZIS30ZTWoU\n"
     ]
    },
    {
     "name": "stdout",
     "output_type": "stream",
     "text": [
      "\n",
      "Successfully saved authorization token.\n"
     ]
    }
   ],
   "source": [
    "#authorize google earth engine access \n",
    "ee.Authenticate()\n",
    "ee.Initialize()"
   ]
  },
  {
   "cell_type": "code",
   "execution_count": 12,
   "id": "c1bc51f7-8788-4a16-8927-9f0da8d16ccd",
   "metadata": {},
   "outputs": [],
   "source": [
    "gdat = ee.ImageCollection(\"LANDSAT/LC08/C01/T1_SR\")"
   ]
  },
  {
   "cell_type": "markdown",
   "id": "30253e61-0707-4540-9c86-9afc6df27958",
   "metadata": {},
   "source": [
    "<a id='display'></a> \n",
    "### Metadata Display and Basic Visualization\n",
    "\n",
    "Next, provide some example commands to take a quick look at what is in your dataset. We've done some things along these lines in class by now, but you should include at least one of:\n",
    "\n",
    "- Metadata display: commands to indicate a) which variables are included in the dataset and their names; b) coordinate information associated with the data variables; c) other important metadata parameters (site names, etc); and d) any important information on missing data\n",
    "- Basic visualization: a \"quick and dirty\" plot showing generally what the data look like. Depending on your dataset, this could be either a time series or a map (no fancy coordinate reference system/projection needed yet)."
   ]
  },
  {
   "cell_type": "markdown",
   "id": "8d473ed4-9b45-49e7-a0d5-62e7fd7283bb",
   "metadata": {},
   "source": [
    "#### Metadata Display"
   ]
  },
  {
   "cell_type": "code",
   "execution_count": 7,
   "id": "70cefdb9-0629-4cd2-9886-4a01d8bc536c",
   "metadata": {},
   "outputs": [],
   "source": [
    "# pull the first image in the collection \n",
    "testimg = gdat.first()"
   ]
  },
  {
   "cell_type": "markdown",
   "id": "56b0f4ea-f810-4c62-b2f2-07f356de5a61",
   "metadata": {},
   "source": [
    "The code chunk below uses the first image in the collection to call the variables included in the images of our Landsat 8 data:"
   ]
  },
  {
   "cell_type": "code",
   "execution_count": 8,
   "id": "78f37d79-f11f-4e18-b99d-5988d49bdf48",
   "metadata": {},
   "outputs": [
    {
     "data": {
      "text/plain": [
       "\"['B1', 'B2', 'B3', 'B4', 'B5', 'B6', 'B7', 'B10', 'B11', 'sr_aerosol', 'pixel_qa', 'radsat_qa']\""
      ]
     },
     "execution_count": 8,
     "metadata": {},
     "output_type": "execute_result"
    }
   ],
   "source": [
    "#extract a list containing the names of the bands \n",
    "bands = testimg.bandNames()\n",
    "str(bands.getInfo())"
   ]
  },
  {
   "cell_type": "markdown",
   "id": "520a0077-5f49-407b-8501-2c124b483d8b",
   "metadata": {},
   "source": [
    "We can see from the returned results that the dataset has 12 variables. Their names are\n",
    "\n",
    "- `B1` : coastal aerosol\n",
    "- `B2` : blue\n",
    "- `B3`: green\n",
    "- `B4`: red\n",
    "- `B5` : near infared\n",
    "- `B6` : shortwave infared 1\n",
    "- `B7` : shortwave infared 2\n",
    "- `B8` : band 8 panochromatic\n",
    "- `B9`: cirrus\n",
    "- `B10` : thermal infared 1\n",
    "- `B11` : thermal infared 2\n",
    "- `sr_aerosol`: aerosol attricutes\n",
    "- `pixel_qa` : pixel quality attributes generated from the CFMASK algorithm \n",
    "- `radsat_qa`: radiometric saturation QA"
   ]
  },
  {
   "cell_type": "code",
   "execution_count": 9,
   "id": "ebb0e8bb-4b27-43c3-b89c-c4748400b889",
   "metadata": {},
   "outputs": [],
   "source": [
    "#select mangrove region (Sundarabans, in Bangladesh) to explore Landsat8 data for\n",
    "\n",
    "#lat and lon for Sundarabans mangrove forest\n",
    "sundarbans_lon = 89\n",
    "sundarbans_lat = 21.37\n",
    "\n",
    "#create point of interest for Sundarabans \n",
    "sundarbans_poi = ee.Geometry.Point(sundarbans_lon, sundarbans_lat)\n",
    "scale = 1000   # scale in m"
   ]
  },
  {
   "cell_type": "code",
   "execution_count": 10,
   "id": "7d66df25-68ac-4ba8-8888-1a069c964492",
   "metadata": {},
   "outputs": [],
   "source": [
    "#explore a data feature of the Landsat images; we chose Band 2\n",
    "B2 = gdat.select('B2')\n",
    "sundarbans_B2 = B2.getRegion(sundarbans_poi, scale).getInfo()"
   ]
  },
  {
   "cell_type": "code",
   "execution_count": 11,
   "id": "d64bec6e-5e9b-4174-ac10-f2a949f28503",
   "metadata": {},
   "outputs": [
    {
     "name": "stdout",
     "output_type": "stream",
     "text": [
      "                        0          1          2              3     4\n",
      "0                      id  longitude   latitude           time    B2\n",
      "1    LC08_138045_20130708  89.000587  21.366429  1373258003390  1091\n",
      "2    LC08_138045_20130724  89.000587  21.366429  1374640402070  1587\n",
      "3    LC08_138045_20130825  89.000587  21.366429  1377405206730  1102\n",
      "4    LC08_138045_20130910  89.000587  21.366429  1378787604620   198\n",
      "..                    ...        ...        ...            ...   ...\n",
      "156  LC08_138045_20210714  89.000587  21.366429  1626237078562  3196\n",
      "157  LC08_138045_20210815  89.000587  21.366429  1629001892732  3953\n",
      "158  LC08_138045_20210831  89.000587  21.366429  1630384297322  2219\n",
      "159  LC08_138045_20210916  89.000587  21.366429  1631766701206   951\n",
      "160  LC08_138045_20211002  89.000587  21.366429  1633149105920   550\n",
      "\n",
      "[161 rows x 5 columns]\n"
     ]
    }
   ],
   "source": [
    "#create a dataframe using Band 2 measurements for Sundarabans mangrove forest over time \n",
    "df = pd.DataFrame(sundarbans_B2)\n",
    "\n",
    "print(df)"
   ]
  },
  {
   "cell_type": "markdown",
   "id": "74f81d93-bf74-4aa4-a7dd-c472d74b3055",
   "metadata": {},
   "source": [
    "Basic Visualization: "
   ]
  },
  {
   "cell_type": "code",
   "execution_count": 4,
   "id": "f89fe653-589d-41ad-ace5-e80193247c73",
   "metadata": {},
   "outputs": [],
   "source": [
    "test_pt = ee.Geometry.Point([-16.283462202, 12.1582165861])"
   ]
  },
  {
   "cell_type": "code",
   "execution_count": 5,
   "id": "088b0ba0-5d0e-47cd-9917-4a2e97a767a8",
   "metadata": {},
   "outputs": [],
   "source": [
    "test_filt = gdat.filterBounds(test_pt)"
   ]
  },
  {
   "cell_type": "code",
   "execution_count": 6,
   "id": "affb3fd2-7eec-41a8-b718-e7cc49900c76",
   "metadata": {},
   "outputs": [],
   "source": [
    "visParams = {'bands': ['B4', 'B3', 'B2'],\n",
    "             'min': 0,\n",
    "             'max': 0.5\n",
    "            }"
   ]
  },
  {
   "cell_type": "code",
   "execution_count": 7,
   "id": "b4a8513d-bd43-4ade-95b2-dac97c97984f",
   "metadata": {},
   "outputs": [
    {
     "data": {
      "application/vnd.jupyter.widget-view+json": {
       "model_id": "8eba767a010046c78c33c160adc8420d",
       "version_major": 2,
       "version_minor": 0
      },
      "text/plain": [
       "Map(center=[12.1582165861, -16.283462202], controls=(WidgetControl(options=['position', 'transparent_bg'], wid…"
      ]
     },
     "metadata": {},
     "output_type": "display_data"
    }
   ],
   "source": [
    "test_map = geemap.Map(center=[12.1582165861, -16.283462202], zoom=12)\n",
    "test_map"
   ]
  },
  {
   "cell_type": "code",
   "execution_count": 8,
   "id": "d6e730dc-df82-4eb7-8920-cd9369e6469c",
   "metadata": {},
   "outputs": [],
   "source": [
    "test_map.addLayer(test_filt, visParams)"
   ]
  },
  {
   "cell_type": "markdown",
   "id": "62354cdf-609f-487d-be51-9ea306997a69",
   "metadata": {},
   "source": [
    "<a id='usecases'></a> \n",
    "### Use Case Examples"
   ]
  },
  {
   "cell_type": "markdown",
   "id": "9e5b04a9-b2bb-40ed-bb8c-9c75d3494c38",
   "metadata": {},
   "source": [
    "This is the \"meat\" of the notebook, and what will take the majority of the time to present in class. This section should provide:\n",
    "1) A plain-text summary (1-2 paragraphs) of the use case example you have chosen: include the target users and audience, and potential applicability. For example, the Week 7 SST exercise might discuss how the state of the ENSO system can be important for seasonal weather forecasts/coral bleaching outlooks, then mention the typical diagnostics associated with ENSO (i.e. identification of El Nino/La Nina events).\n",
    "\n",
    "2) Markdown and code blocks demonstrating how one walks through the desired use case example. This should be similar to the labs we've done in class: you might want to demonstrate how to isolate a particularly interesting time period, then create an image showing a feature you're interested in, for example.\n",
    "\n",
    "3) A discussion of the results and how they might be extended on further analysis. For example, we are doing El Nino/La Nina composites in class; a natural extension might be to look at individual events to see what their particular impacts were. Or if there are data quality issues which impact the results, you could discuss how these might be mitigated with additional information/analysis.\n",
    "\n",
    "Just keep in mind, you'll have roughly 20 minutes for your full presentation, and that goes surprisingly quickly! Probably 2-3 diagnostics is the most you'll be able to get through (you could try practicing with your group members to get a sense of timing).\n"
   ]
  },
  {
   "cell_type": "code",
   "execution_count": 13,
   "id": "26daf65f-21a7-42e7-9b7c-9c1052df5a04",
   "metadata": {},
   "outputs": [],
   "source": [
    "#select the region: Cacheu National Park Mangrove Forest\n",
    "\n",
    "gb_lat = 12.1582165861\n",
    "gb_lon = -16.283462202\n",
    "pt = ee.Geometry.Point(gb_lon, gb_lat)"
   ]
  },
  {
   "cell_type": "code",
   "execution_count": 14,
   "id": "502cc113-3604-45ce-af65-af113a0bad67",
   "metadata": {},
   "outputs": [],
   "source": [
    "#filter image collection using our point in Chacheu National Park Mangrove Forest\n",
    "gdat_filt = gdat.filterBounds(pt)"
   ]
  },
  {
   "cell_type": "code",
   "execution_count": 46,
   "id": "6cee3ff0-cd35-4404-ab7f-3726b8fb18fc",
   "metadata": {},
   "outputs": [],
   "source": [
    "# Function to calculate NDVI for a given input image\n",
    "def addNDVI(image):\n",
    "    red = image.select('B4')\n",
    "    nir = image.select('B5')\n",
    "    \n",
    "    ndvi = (nir.subtract(red)).divide((nir.add(red))).rename('NDVI')\n",
    "    \n",
    "    return image.addBands(ndvi)\n",
    "\n",
    "\n",
    "# apply fuction to all\n",
    "gdat_withndvi = gdat_filt.map(addNDVI) \n",
    "\n",
    "#create visable parameters \n",
    "\n",
    "ndviParams = {'bands': 'NDVI',\n",
    "              'min': -1, \n",
    "              'max': 1, \n",
    "              'palette': ['blue', 'white', 'green']\n",
    "             }"
   ]
  },
  {
   "cell_type": "code",
   "execution_count": 47,
   "id": "b604a5f3-6a0f-4d00-b418-a66d48b26b58",
   "metadata": {},
   "outputs": [],
   "source": [
    "#filter out the cloudy images \n",
    "dat_nocld = gdat_withndvi.filter('CLOUD_COVER < 20')\n",
    "\n",
    "#filter for the time period 2014 and create a temporal average \n",
    "date_2014 = dat_nocld.filter(ee.Filter.date('2014-01-01', '2014-12-31')).mean();\n",
    "\n",
    "#creating the basemap \n",
    "map_ndvi = geemap.Map(center = [gb_lat, gb_lon], zoom = 12)\n",
    "\n",
    "#add 2014 NDVI layer to map\n",
    "map_ndvi.addLayer(date_2014, ndviParams, \"2014\")"
   ]
  },
  {
   "cell_type": "code",
   "execution_count": 48,
   "id": "020197fa-9c1e-4986-872f-c6cb0832522b",
   "metadata": {},
   "outputs": [],
   "source": [
    "#Now adding a 2019 layer \n",
    "\n",
    "#filter for the time period 2019 and create a temporal average \n",
    "date_2019 = dat_nocld.filter(ee.Filter.date('2019-01-01', '2019-12-31')).mean();\n",
    "\n",
    "#add 2019 NDVI layer to map\n",
    "map_ndvi.addLayer(date_2019, ndviParams, \"2019\")"
   ]
  },
  {
   "cell_type": "code",
   "execution_count": 49,
   "id": "a133df17-3633-4606-901b-063f2644e749",
   "metadata": {},
   "outputs": [
    {
     "data": {
      "application/vnd.jupyter.widget-view+json": {
       "model_id": "9a172718560c427ea2d314828903310f",
       "version_major": 2,
       "version_minor": 0
      },
      "text/plain": [
       "Map(center=[12.1582165861, -16.283462202], controls=(WidgetControl(options=['position', 'transparent_bg'], wid…"
      ]
     },
     "metadata": {},
     "output_type": "display_data"
    }
   ],
   "source": [
    "#calling the map \n",
    "#map_ndvi"
   ]
  },
  {
   "cell_type": "code",
   "execution_count": null,
   "id": "89fcf57d-e426-4123-aaaf-cb61464eeb38",
   "metadata": {},
   "outputs": [],
   "source": [
    "#Now doing NDII \n",
    "\n",
    "def addNDII(image):\n",
    "    mir = image.select('B6')\n",
    "    nir = image.select('B5')\n",
    "    \n",
    "    ndii = (nir.subtract(mir)).divide((nir.add(mir))).rename('NDII')\n",
    "    \n",
    "    return image.addBands(ndii)\n",
    "\n",
    "# apply fuction to all\n",
    "gdat_withndii = gdat_filt.map(addNDII) \n",
    "\n",
    "#create visable parameters \n",
    "\n",
    "ndiiParams = {'bands': 'NDII',\n",
    "              'min': -1, \n",
    "              'max': 1, \n",
    "              'palette': ['blue', 'white', 'green']\n",
    "             }\n",
    "\n",
    "#filter out the cloudy images \n",
    "dat_nocld_ndii = gdat_withndii.filter('CLOUD_COVER < 20')\n",
    "\n",
    "#filter for the time period 2014 and create a temporal average \n",
    "date_2014_ndii = dat_nocld_ndii.filter(ee.Filter.date('2014-01-01', '2014-12-31')).mean();\n",
    "\n",
    "#creating the basemap \n",
    "map_ndii = geemap.Map(center = [gb_lat, gb_lon], zoom = 12)\n",
    "\n",
    "#add 2014 NDII layer to map\n",
    "map_ndii.addLayer(date_2014_ndii, ndiiParams, \"2014\")\n",
    "\n",
    "#Now adding a 2019 layer \n",
    "\n",
    "#filter for the time period 2019 and create a temporal average \n",
    "date_2019_ndii = dat_nocld_ndii.filter(ee.Filter.date('2019-01-01', '2019-12-31')).mean();\n",
    "\n",
    "#add 2019 NDII layer to map\n",
    "map_ndii.addLayer(date_2019_ndii, ndiiParams, \"2019\")"
   ]
  },
  {
   "cell_type": "code",
   "execution_count": null,
   "id": "89b8e753-df62-4b14-87fa-280bc8063742",
   "metadata": {},
   "outputs": [],
   "source": [
    "#calling the map \n",
    "#map_ndii"
   ]
  },
  {
   "cell_type": "code",
   "execution_count": null,
   "id": "78ab16bb-1cbb-4b0f-a207-bd423edf08ce",
   "metadata": {},
   "outputs": [],
   "source": [
    "# Now doing the NDBI layer \n",
    "\n",
    "def addNDBI(image):\n",
    "    mir = image.select('B6')\n",
    "    nir = image.select('B5')\n",
    "    \n",
    "    ndbi = (mir.subtract(nir)).divide((mir.add(nir))).rename('NDBI')\n",
    "    \n",
    "    return image.addBands(ndbi)\n",
    "\n",
    "# apply fuction to all\n",
    "gdat_withndbi = gdat_filt.map(addNDBI) \n",
    "\n",
    "#create visable parameters \n",
    "\n",
    "ndbiParams = {'bands': 'NDBI',\n",
    "              'min': -1, \n",
    "              'max': 1, \n",
    "              'palette': ['blue', 'white', 'green']\n",
    "             }\n",
    "\n",
    "#filter out the cloudy images \n",
    "dat_nocld_ndbi = gdat_withndbi.filter('CLOUD_COVER < 20')\n",
    "\n",
    "#filter for the time period 2014 and create a temporal average \n",
    "date_2014_ndbi = dat_nocld_ndbi.filter(ee.Filter.date('2014-01-01', '2014-12-31')).mean();\n",
    "\n",
    "#creating the basemap \n",
    "map_ndbi = geemap.Map(center = [gb_lat, gb_lon], zoom = 12)\n",
    "\n",
    "#add 2014 NDBI layer to map\n",
    "map_ndbi.addLayer(date_2014_ndbi, ndbiParams, \"2014\")\n",
    "\n",
    "#Now adding a 2019 layer \n",
    "\n",
    "#filter for the time period 2019 and create a temporal average \n",
    "date_2019_ndbi = dat_nocld_ndbi.filter(ee.Filter.date('2019-01-01', '2019-12-31')).mean();\n",
    "\n",
    "#add 2019 NDBI layer to map\n",
    "map_ndbi.addLayer(date_2019_ndbi, ndbiParams, \"2019\")"
   ]
  },
  {
   "cell_type": "code",
   "execution_count": null,
   "id": "0d015a95-4efd-4ca3-ae25-c4c909fb9885",
   "metadata": {},
   "outputs": [],
   "source": [
    "#calling the map \n",
    "#map_ndbi"
   ]
  },
  {
   "cell_type": "code",
   "execution_count": 18,
   "id": "da2c8900-1ec8-4f54-a4b8-5adfd8f7d36d",
   "metadata": {},
   "outputs": [
    {
     "ename": "AttributeError",
     "evalue": "'float' object has no attribute 'multiply'",
     "output_type": "error",
     "traceback": [
      "\u001b[0;31m---------------------------------------------------------------------------\u001b[0m",
      "\u001b[0;31mAttributeError\u001b[0m                            Traceback (most recent call last)",
      "\u001b[0;32m/var/folders/3w/5zq6_j690hq0cz4jr7kj8tcr0000gn/T/ipykernel_17730/3180275437.py\u001b[0m in \u001b[0;36m<module>\u001b[0;34m\u001b[0m\n\u001b[1;32m     12\u001b[0m \u001b[0;34m\u001b[0m\u001b[0m\n\u001b[1;32m     13\u001b[0m \u001b[0;31m# apply fuction to all\u001b[0m\u001b[0;34m\u001b[0m\u001b[0;34m\u001b[0m\u001b[0m\n\u001b[0;32m---> 14\u001b[0;31m \u001b[0mgdat_withgari\u001b[0m \u001b[0;34m=\u001b[0m \u001b[0mgdat_filt\u001b[0m\u001b[0;34m.\u001b[0m\u001b[0mmap\u001b[0m\u001b[0;34m(\u001b[0m\u001b[0maddGARI\u001b[0m\u001b[0;34m)\u001b[0m\u001b[0;34m\u001b[0m\u001b[0;34m\u001b[0m\u001b[0m\n\u001b[0m\u001b[1;32m     15\u001b[0m \u001b[0;34m\u001b[0m\u001b[0m\n",
      "\u001b[0;32m~/opt/anaconda3/envs/gee_env/lib/python3.9/site-packages/ee/collection.py\u001b[0m in \u001b[0;36mmap\u001b[0;34m(self, algorithm, opt_dropNulls)\u001b[0m\n\u001b[1;32m    196\u001b[0m     \u001b[0melement_type\u001b[0m \u001b[0;34m=\u001b[0m \u001b[0mself\u001b[0m\u001b[0;34m.\u001b[0m\u001b[0melementType\u001b[0m\u001b[0;34m(\u001b[0m\u001b[0;34m)\u001b[0m\u001b[0;34m\u001b[0m\u001b[0;34m\u001b[0m\u001b[0m\n\u001b[1;32m    197\u001b[0m     \u001b[0mwith_cast\u001b[0m \u001b[0;34m=\u001b[0m \u001b[0;32mlambda\u001b[0m \u001b[0me\u001b[0m\u001b[0;34m:\u001b[0m \u001b[0malgorithm\u001b[0m\u001b[0;34m(\u001b[0m\u001b[0melement_type\u001b[0m\u001b[0;34m(\u001b[0m\u001b[0me\u001b[0m\u001b[0;34m)\u001b[0m\u001b[0;34m)\u001b[0m\u001b[0;34m\u001b[0m\u001b[0;34m\u001b[0m\u001b[0m\n\u001b[0;32m--> 198\u001b[0;31m     return self._cast(apifunction.ApiFunction.call_(\n\u001b[0m\u001b[1;32m    199\u001b[0m         'Collection.map', self, with_cast, opt_dropNulls))\n\u001b[1;32m    200\u001b[0m \u001b[0;34m\u001b[0m\u001b[0m\n",
      "\u001b[0;32m~/opt/anaconda3/envs/gee_env/lib/python3.9/site-packages/ee/apifunction.py\u001b[0m in \u001b[0;36mcall_\u001b[0;34m(cls, name, *args, **kwargs)\u001b[0m\n\u001b[1;32m     79\u001b[0m       \u001b[0ma\u001b[0m \u001b[0mrecognized\u001b[0m \u001b[0;32mreturn\u001b[0m \u001b[0mtype\u001b[0m\u001b[0;34m,\u001b[0m \u001b[0mthe\u001b[0m \u001b[0mreturned\u001b[0m \u001b[0mvalue\u001b[0m \u001b[0mwill\u001b[0m \u001b[0mbe\u001b[0m \u001b[0mcast\u001b[0m \u001b[0mto\u001b[0m \u001b[0mthat\u001b[0m \u001b[0mtype\u001b[0m\u001b[0;34m.\u001b[0m\u001b[0;34m\u001b[0m\u001b[0;34m\u001b[0m\u001b[0m\n\u001b[1;32m     80\u001b[0m     \"\"\"\n\u001b[0;32m---> 81\u001b[0;31m     \u001b[0;32mreturn\u001b[0m \u001b[0mcls\u001b[0m\u001b[0;34m.\u001b[0m\u001b[0mlookup\u001b[0m\u001b[0;34m(\u001b[0m\u001b[0mname\u001b[0m\u001b[0;34m)\u001b[0m\u001b[0;34m.\u001b[0m\u001b[0mcall\u001b[0m\u001b[0;34m(\u001b[0m\u001b[0;34m*\u001b[0m\u001b[0margs\u001b[0m\u001b[0;34m,\u001b[0m \u001b[0;34m**\u001b[0m\u001b[0mkwargs\u001b[0m\u001b[0;34m)\u001b[0m\u001b[0;34m\u001b[0m\u001b[0;34m\u001b[0m\u001b[0m\n\u001b[0m\u001b[1;32m     82\u001b[0m \u001b[0;34m\u001b[0m\u001b[0m\n\u001b[1;32m     83\u001b[0m   \u001b[0;34m@\u001b[0m\u001b[0mclassmethod\u001b[0m\u001b[0;34m\u001b[0m\u001b[0;34m\u001b[0m\u001b[0m\n",
      "\u001b[0;32m~/opt/anaconda3/envs/gee_env/lib/python3.9/site-packages/ee/function.py\u001b[0m in \u001b[0;36mcall\u001b[0;34m(self, *args, **kwargs)\u001b[0m\n\u001b[1;32m     65\u001b[0m       \u001b[0mto\u001b[0m \u001b[0mthat\u001b[0m \u001b[0mtype\u001b[0m\u001b[0;34m.\u001b[0m\u001b[0;34m\u001b[0m\u001b[0;34m\u001b[0m\u001b[0m\n\u001b[1;32m     66\u001b[0m     \"\"\"\n\u001b[0;32m---> 67\u001b[0;31m     \u001b[0;32mreturn\u001b[0m \u001b[0mself\u001b[0m\u001b[0;34m.\u001b[0m\u001b[0mapply\u001b[0m\u001b[0;34m(\u001b[0m\u001b[0mself\u001b[0m\u001b[0;34m.\u001b[0m\u001b[0mnameArgs\u001b[0m\u001b[0;34m(\u001b[0m\u001b[0margs\u001b[0m\u001b[0;34m,\u001b[0m \u001b[0mkwargs\u001b[0m\u001b[0;34m)\u001b[0m\u001b[0;34m)\u001b[0m\u001b[0;34m\u001b[0m\u001b[0;34m\u001b[0m\u001b[0m\n\u001b[0m\u001b[1;32m     68\u001b[0m \u001b[0;34m\u001b[0m\u001b[0m\n\u001b[1;32m     69\u001b[0m   \u001b[0;32mdef\u001b[0m \u001b[0mapply\u001b[0m\u001b[0;34m(\u001b[0m\u001b[0mself\u001b[0m\u001b[0;34m,\u001b[0m \u001b[0mnamed_args\u001b[0m\u001b[0;34m)\u001b[0m\u001b[0;34m:\u001b[0m\u001b[0;34m\u001b[0m\u001b[0;34m\u001b[0m\u001b[0m\n",
      "\u001b[0;32m~/opt/anaconda3/envs/gee_env/lib/python3.9/site-packages/ee/function.py\u001b[0m in \u001b[0;36mapply\u001b[0;34m(self, named_args)\u001b[0m\n\u001b[1;32m     78\u001b[0m       \u001b[0mto\u001b[0m \u001b[0mthat\u001b[0m \u001b[0mtype\u001b[0m\u001b[0;34m.\u001b[0m\u001b[0;34m\u001b[0m\u001b[0;34m\u001b[0m\u001b[0m\n\u001b[1;32m     79\u001b[0m     \"\"\"\n\u001b[0;32m---> 80\u001b[0;31m     \u001b[0mresult\u001b[0m \u001b[0;34m=\u001b[0m \u001b[0mcomputedobject\u001b[0m\u001b[0;34m.\u001b[0m\u001b[0mComputedObject\u001b[0m\u001b[0;34m(\u001b[0m\u001b[0mself\u001b[0m\u001b[0;34m,\u001b[0m \u001b[0mself\u001b[0m\u001b[0;34m.\u001b[0m\u001b[0mpromoteArgs\u001b[0m\u001b[0;34m(\u001b[0m\u001b[0mnamed_args\u001b[0m\u001b[0;34m)\u001b[0m\u001b[0;34m)\u001b[0m\u001b[0;34m\u001b[0m\u001b[0;34m\u001b[0m\u001b[0m\n\u001b[0m\u001b[1;32m     81\u001b[0m     \u001b[0;32mreturn\u001b[0m \u001b[0mFunction\u001b[0m\u001b[0;34m.\u001b[0m\u001b[0m_promoter\u001b[0m\u001b[0;34m(\u001b[0m\u001b[0mresult\u001b[0m\u001b[0;34m,\u001b[0m \u001b[0mself\u001b[0m\u001b[0;34m.\u001b[0m\u001b[0mgetReturnType\u001b[0m\u001b[0;34m(\u001b[0m\u001b[0;34m)\u001b[0m\u001b[0;34m)\u001b[0m\u001b[0;34m\u001b[0m\u001b[0;34m\u001b[0m\u001b[0m\n\u001b[1;32m     82\u001b[0m \u001b[0;34m\u001b[0m\u001b[0m\n",
      "\u001b[0;32m~/opt/anaconda3/envs/gee_env/lib/python3.9/site-packages/ee/function.py\u001b[0m in \u001b[0;36mpromoteArgs\u001b[0;34m(self, args)\u001b[0m\n\u001b[1;32m    105\u001b[0m       \u001b[0mname\u001b[0m \u001b[0;34m=\u001b[0m \u001b[0mspec\u001b[0m\u001b[0;34m[\u001b[0m\u001b[0;34m'name'\u001b[0m\u001b[0;34m]\u001b[0m\u001b[0;34m\u001b[0m\u001b[0;34m\u001b[0m\u001b[0m\n\u001b[1;32m    106\u001b[0m       \u001b[0;32mif\u001b[0m \u001b[0mname\u001b[0m \u001b[0;32min\u001b[0m \u001b[0margs\u001b[0m\u001b[0;34m:\u001b[0m\u001b[0;34m\u001b[0m\u001b[0;34m\u001b[0m\u001b[0m\n\u001b[0;32m--> 107\u001b[0;31m         \u001b[0mpromoted_args\u001b[0m\u001b[0;34m[\u001b[0m\u001b[0mname\u001b[0m\u001b[0;34m]\u001b[0m \u001b[0;34m=\u001b[0m \u001b[0mFunction\u001b[0m\u001b[0;34m.\u001b[0m\u001b[0m_promoter\u001b[0m\u001b[0;34m(\u001b[0m\u001b[0margs\u001b[0m\u001b[0;34m[\u001b[0m\u001b[0mname\u001b[0m\u001b[0;34m]\u001b[0m\u001b[0;34m,\u001b[0m \u001b[0mspec\u001b[0m\u001b[0;34m[\u001b[0m\u001b[0;34m'type'\u001b[0m\u001b[0;34m]\u001b[0m\u001b[0;34m)\u001b[0m\u001b[0;34m\u001b[0m\u001b[0;34m\u001b[0m\u001b[0m\n\u001b[0m\u001b[1;32m    108\u001b[0m       \u001b[0;32melif\u001b[0m \u001b[0;32mnot\u001b[0m \u001b[0mspec\u001b[0m\u001b[0;34m.\u001b[0m\u001b[0mget\u001b[0m\u001b[0;34m(\u001b[0m\u001b[0;34m'optional'\u001b[0m\u001b[0;34m)\u001b[0m\u001b[0;34m:\u001b[0m\u001b[0;34m\u001b[0m\u001b[0;34m\u001b[0m\u001b[0m\n\u001b[1;32m    109\u001b[0m         raise ee_exception.EEException(\n",
      "\u001b[0;32m~/opt/anaconda3/envs/gee_env/lib/python3.9/site-packages/ee/__init__.py\u001b[0m in \u001b[0;36m_Promote\u001b[0;34m(arg, klass)\u001b[0m\n\u001b[1;32m    243\u001b[0m       \u001b[0;32melse\u001b[0m\u001b[0;34m:\u001b[0m\u001b[0;34m\u001b[0m\u001b[0;34m\u001b[0m\u001b[0m\n\u001b[1;32m    244\u001b[0m         \u001b[0margs_count\u001b[0m \u001b[0;34m=\u001b[0m \u001b[0mlen\u001b[0m\u001b[0;34m(\u001b[0m\u001b[0minspect\u001b[0m\u001b[0;34m.\u001b[0m\u001b[0mgetfullargspec\u001b[0m\u001b[0;34m(\u001b[0m\u001b[0marg\u001b[0m\u001b[0;34m)\u001b[0m\u001b[0;34m.\u001b[0m\u001b[0margs\u001b[0m\u001b[0;34m)\u001b[0m\u001b[0;34m\u001b[0m\u001b[0;34m\u001b[0m\u001b[0m\n\u001b[0;32m--> 245\u001b[0;31m       \u001b[0;32mreturn\u001b[0m \u001b[0mCustomFunction\u001b[0m\u001b[0;34m.\u001b[0m\u001b[0mcreate\u001b[0m\u001b[0;34m(\u001b[0m\u001b[0marg\u001b[0m\u001b[0;34m,\u001b[0m \u001b[0;34m'Object'\u001b[0m\u001b[0;34m,\u001b[0m \u001b[0;34m[\u001b[0m\u001b[0;34m'Object'\u001b[0m\u001b[0;34m]\u001b[0m \u001b[0;34m*\u001b[0m \u001b[0margs_count\u001b[0m\u001b[0;34m)\u001b[0m\u001b[0;34m\u001b[0m\u001b[0;34m\u001b[0m\u001b[0m\n\u001b[0m\u001b[1;32m    246\u001b[0m     \u001b[0;32melif\u001b[0m \u001b[0misinstance\u001b[0m\u001b[0;34m(\u001b[0m\u001b[0marg\u001b[0m\u001b[0;34m,\u001b[0m \u001b[0mEncodable\u001b[0m\u001b[0;34m)\u001b[0m\u001b[0;34m:\u001b[0m\u001b[0;34m\u001b[0m\u001b[0;34m\u001b[0m\u001b[0m\n\u001b[1;32m    247\u001b[0m       \u001b[0;31m# An ee.Function or a computed function like the return value of\u001b[0m\u001b[0;34m\u001b[0m\u001b[0;34m\u001b[0m\u001b[0m\n",
      "\u001b[0;32m~/opt/anaconda3/envs/gee_env/lib/python3.9/site-packages/ee/customfunction.py\u001b[0m in \u001b[0;36mcreate\u001b[0;34m(func, return_type, arg_types)\u001b[0m\n\u001b[1;32m    123\u001b[0m         \u001b[0;34m'args'\u001b[0m\u001b[0;34m:\u001b[0m \u001b[0margs\u001b[0m\u001b[0;34m\u001b[0m\u001b[0;34m\u001b[0m\u001b[0m\n\u001b[1;32m    124\u001b[0m     }\n\u001b[0;32m--> 125\u001b[0;31m     \u001b[0;32mreturn\u001b[0m \u001b[0mCustomFunction\u001b[0m\u001b[0;34m(\u001b[0m\u001b[0msignature\u001b[0m\u001b[0;34m,\u001b[0m \u001b[0mfunc\u001b[0m\u001b[0;34m)\u001b[0m\u001b[0;34m\u001b[0m\u001b[0;34m\u001b[0m\u001b[0m\n\u001b[0m\u001b[1;32m    126\u001b[0m \u001b[0;34m\u001b[0m\u001b[0m\n\u001b[1;32m    127\u001b[0m   \u001b[0;34m@\u001b[0m\u001b[0mstaticmethod\u001b[0m\u001b[0;34m\u001b[0m\u001b[0;34m\u001b[0m\u001b[0m\n",
      "\u001b[0;32m~/opt/anaconda3/envs/gee_env/lib/python3.9/site-packages/ee/customfunction.py\u001b[0m in \u001b[0;36m__init__\u001b[0;34m(self, signature, body)\u001b[0m\n\u001b[1;32m     41\u001b[0m                  for arg in signature['args']]\n\u001b[1;32m     42\u001b[0m \u001b[0;34m\u001b[0m\u001b[0m\n\u001b[0;32m---> 43\u001b[0;31m     \u001b[0;32mif\u001b[0m \u001b[0mbody\u001b[0m\u001b[0;34m(\u001b[0m\u001b[0;34m*\u001b[0m\u001b[0mvariables\u001b[0m\u001b[0;34m)\u001b[0m \u001b[0;32mis\u001b[0m \u001b[0;32mNone\u001b[0m\u001b[0;34m:\u001b[0m\u001b[0;34m\u001b[0m\u001b[0;34m\u001b[0m\u001b[0m\n\u001b[0m\u001b[1;32m     44\u001b[0m       \u001b[0;32mraise\u001b[0m \u001b[0mee_exception\u001b[0m\u001b[0;34m.\u001b[0m\u001b[0mEEException\u001b[0m\u001b[0;34m(\u001b[0m\u001b[0;34m'User-defined methods must return a value'\u001b[0m\u001b[0;34m)\u001b[0m\u001b[0;34m\u001b[0m\u001b[0;34m\u001b[0m\u001b[0m\n\u001b[1;32m     45\u001b[0m \u001b[0;34m\u001b[0m\u001b[0m\n",
      "\u001b[0;32m~/opt/anaconda3/envs/gee_env/lib/python3.9/site-packages/ee/collection.py\u001b[0m in \u001b[0;36m<lambda>\u001b[0;34m(e)\u001b[0m\n\u001b[1;32m    195\u001b[0m     \"\"\"\n\u001b[1;32m    196\u001b[0m     \u001b[0melement_type\u001b[0m \u001b[0;34m=\u001b[0m \u001b[0mself\u001b[0m\u001b[0;34m.\u001b[0m\u001b[0melementType\u001b[0m\u001b[0;34m(\u001b[0m\u001b[0;34m)\u001b[0m\u001b[0;34m\u001b[0m\u001b[0;34m\u001b[0m\u001b[0m\n\u001b[0;32m--> 197\u001b[0;31m     \u001b[0mwith_cast\u001b[0m \u001b[0;34m=\u001b[0m \u001b[0;32mlambda\u001b[0m \u001b[0me\u001b[0m\u001b[0;34m:\u001b[0m \u001b[0malgorithm\u001b[0m\u001b[0;34m(\u001b[0m\u001b[0melement_type\u001b[0m\u001b[0;34m(\u001b[0m\u001b[0me\u001b[0m\u001b[0;34m)\u001b[0m\u001b[0;34m)\u001b[0m\u001b[0;34m\u001b[0m\u001b[0;34m\u001b[0m\u001b[0m\n\u001b[0m\u001b[1;32m    198\u001b[0m     return self._cast(apifunction.ApiFunction.call_(\n\u001b[1;32m    199\u001b[0m         'Collection.map', self, with_cast, opt_dropNulls))\n",
      "\u001b[0;32m/var/folders/3w/5zq6_j690hq0cz4jr7kj8tcr0000gn/T/ipykernel_17730/3180275437.py\u001b[0m in \u001b[0;36maddGARI\u001b[0;34m(image)\u001b[0m\n\u001b[1;32m      7\u001b[0m     \u001b[0mnir\u001b[0m \u001b[0;34m=\u001b[0m \u001b[0mimage\u001b[0m\u001b[0;34m.\u001b[0m\u001b[0mselect\u001b[0m\u001b[0;34m(\u001b[0m\u001b[0;34m'B5'\u001b[0m\u001b[0;34m)\u001b[0m\u001b[0;34m\u001b[0m\u001b[0;34m\u001b[0m\u001b[0m\n\u001b[1;32m      8\u001b[0m \u001b[0;34m\u001b[0m\u001b[0m\n\u001b[0;32m----> 9\u001b[0;31m     \u001b[0mgari\u001b[0m \u001b[0;34m=\u001b[0m \u001b[0;34m(\u001b[0m\u001b[0mnir\u001b[0m\u001b[0;34m.\u001b[0m\u001b[0msubtract\u001b[0m\u001b[0;34m(\u001b[0m\u001b[0mgreen\u001b[0m\u001b[0;34m.\u001b[0m\u001b[0msubtract\u001b[0m\u001b[0;34m(\u001b[0m\u001b[0;34m(\u001b[0m\u001b[0;36m1.7\u001b[0m\u001b[0;34m)\u001b[0m\u001b[0;34m.\u001b[0m\u001b[0mmultiply\u001b[0m\u001b[0;34m(\u001b[0m\u001b[0mblue\u001b[0m\u001b[0;34m.\u001b[0m\u001b[0msubtratc\u001b[0m\u001b[0;34m(\u001b[0m\u001b[0mred\u001b[0m\u001b[0;34m)\u001b[0m\u001b[0;34m)\u001b[0m\u001b[0;34m)\u001b[0m\u001b[0;34m)\u001b[0m\u001b[0;34m.\u001b[0m\u001b[0mdivide\u001b[0m\u001b[0;34m(\u001b[0m\u001b[0mnir\u001b[0m\u001b[0;34m.\u001b[0m\u001b[0msubtract\u001b[0m\u001b[0;34m(\u001b[0m\u001b[0mgreen\u001b[0m\u001b[0;34m.\u001b[0m\u001b[0madd\u001b[0m\u001b[0;34m(\u001b[0m\u001b[0;36m1.7\u001b[0m\u001b[0;34m.\u001b[0m\u001b[0mmultiply\u001b[0m\u001b[0;34m(\u001b[0m\u001b[0mblue\u001b[0m\u001b[0;34m.\u001b[0m\u001b[0msubtract\u001b[0m\u001b[0;34m(\u001b[0m\u001b[0mred\u001b[0m\u001b[0;34m)\u001b[0m\u001b[0;34m)\u001b[0m\u001b[0;34m)\u001b[0m\u001b[0;34m)\u001b[0m\u001b[0;34m)\u001b[0m\u001b[0;34m)\u001b[0m\u001b[0;34m\u001b[0m\u001b[0;34m\u001b[0m\u001b[0m\n\u001b[0m\u001b[1;32m     10\u001b[0m \u001b[0;34m\u001b[0m\u001b[0m\n\u001b[1;32m     11\u001b[0m     \u001b[0;32mreturn\u001b[0m \u001b[0mimage\u001b[0m\u001b[0;34m.\u001b[0m\u001b[0maddBands\u001b[0m\u001b[0;34m(\u001b[0m\u001b[0mgari\u001b[0m\u001b[0;34m)\u001b[0m\u001b[0;34m\u001b[0m\u001b[0;34m\u001b[0m\u001b[0m\n",
      "\u001b[0;31mAttributeError\u001b[0m: 'float' object has no attribute 'multiply'"
     ]
    }
   ],
   "source": [
    "# trying the GARI \n",
    "\n",
    "def addGARI(image):\n",
    "    green = image.select('B3')\n",
    "    blue = image.select('B2')\n",
    "    red = image.select('B4')\n",
    "    nir = image.select('B5')\n",
    "    \n",
    "    #gari = (nir.subtract(green.subtract((1.7).multiply(blue.subtratc(red)))).divide(nir.subtract(green.add(1.7.multiply(blue.subtract(red))))))\n",
    "    \n",
    "    return image.addBands(gari)\n",
    "\n",
    "# apply fuction to all\n",
    "gdat_withgari = gdat_filt.map(addGARI)\n",
    "\n",
    "# the GARI isnt woring because it doesnt like the multiply "
   ]
  },
  {
   "cell_type": "code",
   "execution_count": null,
   "id": "810c3991-0d1d-4d47-9ba2-29a139cdd984",
   "metadata": {},
   "outputs": [],
   "source": []
  },
  {
   "cell_type": "code",
   "execution_count": null,
   "id": "9b9c1572-2abc-4ff0-81e9-b13c981f8d00",
   "metadata": {},
   "outputs": [],
   "source": []
  },
  {
   "cell_type": "markdown",
   "id": "9d07de0d-1e81-442a-a895-7b7fd7906385",
   "metadata": {},
   "source": [
    "<a id='binder'></a> \n",
    "### Create Binder Environment\n",
    "\n",
    "The last step is to create a Binder environment for your project, so that we don't have to spend time configuring everyone's environment each time we switch between group presentations. Instructions are below:\n",
    "\n",
    " - Assemble all of the data needed in your Github repo: Jupyter notebooks, a README file, and any datasets needed (these should be small, if included within the repo). Larger datasets should be stored on a separate server, and access codes included within the Jupyter notebook as discussed above. \n",
    " \n",
    " - Create an _environment_ file: this is a text file which contains information on the packages needed in order to execute your code. The filename should be \"environment.yml\": an example that you can use for the proper syntax is included in this template repo. To determine which packages to include, you'll probably want to start by displaying the packages loaded in your environment: you can use the command `conda list -n [environment_name]` to get a list.\n",
    " \n",
    " More information on environment files can be found here:\n",
    " https://docs.conda.io/projects/conda/en/latest/user-guide/tasks/manage-environments.html#\n",
    "\n",
    " - Create Binder. Use http://mybinder.org to create a  URL for your notebook Binder (you will need to enter your GitHub repo URL). You can also add a Launch Binder button directly to your GitHub repo, by including the following in your README.md:\n",
    "\n",
    "```\n",
    "launch with myBinder\n",
    "[![Binder](https://mybinder.org/badge.svg)](https://mybinder.org/v2/gh/<path to your repo>)\n",
    "```"
   ]
  },
  {
   "cell_type": "markdown",
   "id": "c62c774b-8a7c-4f47-9c07-7f9823c48473",
   "metadata": {},
   "source": [
    "<a id='references'></a> \n",
    "### References\n",
    "\n",
    "List relevant references. Here are some additional resources on creating professional, shareable notebooks you may find useful:\n",
    "\n",
    "1. Notebook sharing guidelines from reproducible-science-curriculum: https://reproducible-science-curriculum.github.io/publication-RR-Jupyter/\n",
    "2. Guide for developing shareable notebooks by Kevin Coakley, SDSC: https://github.com/kevincoakley/sharing-jupyter-notebooks/raw/master/Jupyter-Notebooks-Sharing-Recommendations.pdf\n",
    "3. Guide for sharing notebooks by Andrea Zonca, SDSC: https://zonca.dev/2020/09/how-to-share-jupyter-notebooks.html\n",
    "4. Jupyter Notebook Best Practices: https://towardsdatascience.com/jupyter-notebook-best-practices-f430a6ba8c69\n",
    "5. Introduction to Jupyter templates nbextension: https://towardsdatascience.com/stop-copy-pasting-notebooks-embrace-jupyter-templates-6bd7b6c00b94  \n",
    "    5.1. Table of Contents (Toc2) readthedocs: https://jupyter-contrib-nbextensions.readthedocs.io/en/latest/nbextensions/toc2/README.html  \n",
    "    5.2. Steps to install toc2: https://stackoverflow.com/questions/23435723/installing-ipython-notebook-table-of-contents\n",
    "6. Rule A, Birmingham A, Zuniga C, Altintas I, Huang SC, et al. (2019) Ten simple rules for writing and sharing computational analyses in Jupyter Notebooks. PLOS Computational Biology 15(7): e1007007. https://doi.org/10.1371/journal.pcbi.1007007. Supplementary materials: example notebooks (https://github.com/jupyter-guide/ten-rules-jupyter) and tutorial (https://github.com/ISMB-ECCB-2019-Tutorial-AM4/reproducible-computational-workflows)\n",
    "7. Languages supported by Jupyter kernels: https://github.com/jupyter/jupyter/wiki/Jupyter-kernels\n",
    "8. EarthCube notebooks presented at EC Annual Meeting 2020: https://www.earthcube.org/notebooks\n",
    "9. Manage your Python Virtual Environment with Conda: https://towardsdatascience.com/manage-your-python-virtual-environment-with-conda-a0d2934d5195\n",
    "10. Venv - Creation of Virtual Environments: https://docs.python.org/3/library/venv.html"
   ]
  },
  {
   "cell_type": "code",
   "execution_count": null,
   "id": "e9f10df5-100c-4f4a-a1c3-bd417b524a61",
   "metadata": {},
   "outputs": [],
   "source": []
  }
 ],
 "metadata": {
  "kernelspec": {
   "display_name": "Python 3 (ipykernel)",
   "language": "python",
   "name": "python3"
  },
  "language_info": {
   "codemirror_mode": {
    "name": "ipython",
    "version": 3
   },
   "file_extension": ".py",
   "mimetype": "text/x-python",
   "name": "python",
   "nbconvert_exporter": "python",
   "pygments_lexer": "ipython3",
   "version": "3.8.12"
  }
 },
 "nbformat": 4,
 "nbformat_minor": 5
}
