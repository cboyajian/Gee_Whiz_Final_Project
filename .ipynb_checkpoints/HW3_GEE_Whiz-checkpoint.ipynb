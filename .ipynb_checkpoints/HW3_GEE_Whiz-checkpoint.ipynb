{
 "cells": [
  {
   "cell_type": "markdown",
   "id": "2646a34e-a634-47ac-9fe7-73bf40ece8ae",
   "metadata": {},
   "source": [
    "# HW3 GEE_Whiz: Dataset Overview and Use Case Examples\n",
    "## EDS 220, Fall 2021"
   ]
  },
  {
   "cell_type": "markdown",
   "id": "56a405bf-2d38-4175-a931-f52905e11211",
   "metadata": {},
   "source": [
    "## Mangrove Canopy Coverage from LANDSAT 8 Before and After Restoration"
   ]
  },
  {
   "cell_type": "markdown",
   "id": "dc47afd0-adb0-4d5b-8903-992b7904322e",
   "metadata": {},
   "source": [
    "## Authors\n",
    "- Allie Cole, UC Santa Barbara (icole@bren.ucsb.edu) <br>\n",
    "  https://alliecole.github.io/\n",
    "- Clarissa Boyajia, UC Santa Barbara (cboyajian@bren.ucsb.edu) <br>\n",
    "  https://cboyajian.github.io/\n",
    "- Scout Leonard, UC Santa Barbara (scout@bren.ucsb.edu) <br>\n",
    "  https://scoutcleonard.github.io/"
   ]
  },
  {
   "cell_type": "markdown",
   "id": "1e8c2013-fef1-44ac-bb00-3215807cacac",
   "metadata": {},
   "source": [
    "## Table of Contents\n",
    "\n",
    "[1. Purpose](#purpose)\n",
    "\n",
    "[2. Dataset Description](#overview)\n",
    "\n",
    "[3. Data I/O](#io)\n",
    "\n",
    "[4. Metadata Display and Basic Visualization](#display)\n",
    "\n",
    "[5. Use Case Examples](#usecases)\n",
    "\n",
    "[6. Create Binder Environment](#binder)\n",
    "\n",
    "[7. References](#references)"
   ]
  },
  {
   "cell_type": "markdown",
   "id": "ba52c6e3-3584-48be-b500-21578b61bd72",
   "metadata": {},
   "source": [
    "<a id='purpose'></a> \n",
    "### Notebook Purpose\n",
    "\n",
    "This notebook was created to give an overview and short tutorial on how to calculate mangrove canopy coverage percentages using data from the NASA & USGS Landsat 8 dataset. For the tutorial, we will focus on the Cacheu River Mangroves Natural Park in the Republic of Guinea-Bissau in West Africa where restoration efforts began in 2017."
   ]
  },
  {
   "cell_type": "markdown",
   "id": "d429260a-2c30-44da-a5af-e100a440056a",
   "metadata": {},
   "source": [
    "<a id='overview'></a> \n",
    "### Dataset Description\n",
    "\n",
    "The Landsat 8 data collection is supported jointly by NASA and hosted by the USGS. It is accessible through the Google Earth Engine (GEE) API. Landsat 8 data can be downloaded in many different formats depending on how you want to manipulate it. The data includes 9 bands: 5 visible and near-infared (NIR) bands, 2 short-wave infared (SWIR), and 2 thermal infared (TIR) bands. \n",
    "\n",
    "Various products offer varying combinations of bands. The data found in these products comes from USGS in the form of .TIFFs and .JPEGs.\n",
    "\n",
    "This dataset includes fully global coverage every 16 days. It incldues \n",
    "\n",
    "This portion of the notebook should contain a summary description of your chosen environmental dataset. In a few paragraphs, discuss:\n",
    "- The creators of the dataset: NASA/NOAA/other government agency? Nonprofit? etc.\n",
    "- Major characteristics of the dataset: global coverage? Spatial resolution? Temporal resolution? Creation date? \n",
    "- The file format(s) used to store the data: netCDF? CSV? Other?\n",
    "- The source/archive you will be using to retrieve the data: Google Earth Engine? Agency data portal? Other API?\n",
    "- Any known issues with data quality that might be expected to impact the results\n",
    "\n",
    "Include links to any external resources needed to access the data here, including either the location of files stored on an external server you've set up or the access URL for a pre-existing repository. You can also include any example images you find useful for motivating the choice of dataset (optional).\n"
   ]
  },
  {
   "cell_type": "markdown",
   "id": "02d5cb75-cb54-4708-8b88-459cae2ca17d",
   "metadata": {},
   "source": [
    "<a id='io'></a> \n",
    "### Dataset Input/Output \n",
    "\n",
    "2) Set any parameters that will be needed during subsequent portions of the notebook. Typical examples of parameters include:\n",
    "- names of any directories where data are stored\n",
    "- ranges of years over which data are valid\n",
    "- any thresholds or latitude/longitude ranges to be used later (e.g. dimensions of NINO3.4 region, threshold SSTA values for El Nino, etc.)\n",
    "\n",
    "3) Read in the data! If the data files are very large, you may want to consider subsetting the portion of files to be read in (see examples of this during notebooks provided in Weeks 7 and 8).\n",
    "\n",
    "_Since we will be running these notebooks in class during Weeks 9 and 10_, here is a good rule of thumb: It's good to aim for a relatively short amount of time needed to read in the data, since otherwise we'll be sitting around waiting for things to load for a long time. A  minute or two for data I/O is probably the max you'll want to target!"
   ]
  },
  {
   "cell_type": "code",
   "execution_count": 1,
   "id": "792b74ff-c389-4a4c-a755-554bdb33e522",
   "metadata": {},
   "outputs": [],
   "source": [
    "#import all necessary packages \n",
    "import ee\n",
    "import geemap\n",
    "import pandas as pd\n",
    "import matplotlib.pyplot as plt\n",
    "import numpy as np"
   ]
  },
  {
   "cell_type": "code",
   "execution_count": 3,
   "id": "45422ce4-648c-4a75-b23e-929d1f4eb5e3",
   "metadata": {},
   "outputs": [
    {
     "data": {
      "text/html": [
       "<p>To authorize access needed by Earth Engine, open the following\n",
       "        URL in a web browser and follow the instructions:</p>\n",
       "        <p><a href=https://accounts.google.com/o/oauth2/auth?client_id=517222506229-vsmmajv00ul0bs7p89v5m89qs8eb9359.apps.googleusercontent.com&scope=https%3A%2F%2Fwww.googleapis.com%2Fauth%2Fearthengine+https%3A%2F%2Fwww.googleapis.com%2Fauth%2Fdevstorage.full_control&redirect_uri=urn%3Aietf%3Awg%3Aoauth%3A2.0%3Aoob&response_type=code&code_challenge=GWOdTfEKb8SPOmFoA-FXefMqBpdtDHMDDDXmkGROTZU&code_challenge_method=S256>https://accounts.google.com/o/oauth2/auth?client_id=517222506229-vsmmajv00ul0bs7p89v5m89qs8eb9359.apps.googleusercontent.com&scope=https%3A%2F%2Fwww.googleapis.com%2Fauth%2Fearthengine+https%3A%2F%2Fwww.googleapis.com%2Fauth%2Fdevstorage.full_control&redirect_uri=urn%3Aietf%3Awg%3Aoauth%3A2.0%3Aoob&response_type=code&code_challenge=GWOdTfEKb8SPOmFoA-FXefMqBpdtDHMDDDXmkGROTZU&code_challenge_method=S256</a></p>\n",
       "        <p>The authorization workflow will generate a code, which you\n",
       "        should paste in the box below</p>\n",
       "        "
      ],
      "text/plain": [
       "<IPython.core.display.HTML object>"
      ]
     },
     "metadata": {},
     "output_type": "display_data"
    },
    {
     "name": "stdin",
     "output_type": "stream",
     "text": [
      "Enter verification code:  4/1AX4XfWiWCo123ZKhXSRxsuJhaDIU52VqCje0AJO-59BQNMjY76VmoXGy0II\n"
     ]
    },
    {
     "name": "stdout",
     "output_type": "stream",
     "text": [
      "\n",
      "Successfully saved authorization token.\n"
     ]
    }
   ],
   "source": [
    "#authorize google earth engine access \n",
    "ee.Authenticate()\n",
    "ee.Initialize()"
   ]
  },
  {
   "cell_type": "code",
   "execution_count": 10,
   "id": "e6224f67-56af-491f-ae31-798a2e41ee63",
   "metadata": {},
   "outputs": [],
   "source": [
    "#set parameters\n",
    "gee_landsat8_api = \"LANDSAT/LC08/C01/T1_SR\"\n",
    "gb_lat = 12.1582165861 #latitude for poi in guinea-bissau\n",
    "gb_lon = -16.283462202 #latitude for poi in guinea-bissau\n",
    "scale = 1000   # scale in m"
   ]
  },
  {
   "cell_type": "code",
   "execution_count": 11,
   "id": "c1bc51f7-8788-4a16-8927-9f0da8d16ccd",
   "metadata": {},
   "outputs": [],
   "source": [
    "gdat = ee.ImageCollection(gee_landsat8_api)"
   ]
  },
  {
   "cell_type": "markdown",
   "id": "30253e61-0707-4540-9c86-9afc6df27958",
   "metadata": {},
   "source": [
    "<a id='display'></a> \n",
    "### Metadata Display and Basic Visualization\n",
    "\n",
    "#### Landsat8 Data quality and missing data\n",
    "\n",
    "Landsat 8 revisits a location every 8-16 days, which is at a much higher rate when compared to most other satellites. Additionally, Landsat 8 captures a range of multispectral bands, which we explore below. The Landsat 8 resolution is 30 meters (visible, NIR, SWIR); 100 meters (thermal); and 15 meters (panchromatic).\n",
    "\n",
    "The frequent revisitation rate and free access makes this a good dataset for our purposes. The downside to this data is the lower resolution. \n",
    "\n",
    "#### Exploring the metadata\n",
    "\n",
    "To explore the Landsat 8 metadata, we call the first image in the image collaction below, and then extract the variable names from that image. We also visualized in the test map below the Cacheu National Park Mangrove Forest in Guinea-Bissau."
   ]
  },
  {
   "cell_type": "code",
   "execution_count": 7,
   "id": "70cefdb9-0629-4cd2-9886-4a01d8bc536c",
   "metadata": {},
   "outputs": [],
   "source": [
    "# pull the first image in the collection \n",
    "testimg = gdat.first()"
   ]
  },
  {
   "cell_type": "markdown",
   "id": "56b0f4ea-f810-4c62-b2f2-07f356de5a61",
   "metadata": {},
   "source": [
    "The code chunk below uses the first image in the collection to call the variables included in the images of our Landsat 8 data:"
   ]
  },
  {
   "cell_type": "code",
   "execution_count": 8,
   "id": "78f37d79-f11f-4e18-b99d-5988d49bdf48",
   "metadata": {},
   "outputs": [
    {
     "data": {
      "text/plain": [
       "\"['B1', 'B2', 'B3', 'B4', 'B5', 'B6', 'B7', 'B10', 'B11', 'sr_aerosol', 'pixel_qa', 'radsat_qa']\""
      ]
     },
     "execution_count": 8,
     "metadata": {},
     "output_type": "execute_result"
    }
   ],
   "source": [
    "#extract a list containing the names of the bands \n",
    "bands = testimg.bandNames()\n",
    "str(bands.getInfo())"
   ]
  },
  {
   "cell_type": "markdown",
   "id": "520a0077-5f49-407b-8501-2c124b483d8b",
   "metadata": {},
   "source": [
    "We can see from the returned results that the dataset has 12 variables. Their names are:\n",
    "\n",
    "- `B1` : coastal aerosol\n",
    "- `B2` : blue\n",
    "- `B3`: green\n",
    "- `B4`: red\n",
    "- `B5` : near infared\n",
    "- `B6` : shortwave infared 1\n",
    "- `B7` : shortwave infared 2\n",
    "- `B8` : band 8 panochromatic\n",
    "- `B9`: cirrus\n",
    "- `B10` : thermal infared 1\n",
    "- `B11` : thermal infared 2\n",
    "- `sr_aerosol`: aerosol attricutes\n",
    "- `pixel_qa` : pixel quality attributes generated from the CFMASK algorithm \n",
    "- `radsat_qa`: radiometric saturation QA\n",
    "\n",
    "We know the definistions of the bands from [Landsat 8 metadata](https://developers.google.com/earth-engine/datasets/catalog/LANDSAT_LC08_C01_T1_SR) from Google Earth Engine."
   ]
  },
  {
   "cell_type": "code",
   "execution_count": 12,
   "id": "ebb0e8bb-4b27-43c3-b89c-c4748400b889",
   "metadata": {},
   "outputs": [],
   "source": [
    "#select the region: Cacheu National Park Mangrove Forest\n",
    "pt_gb = ee.Geometry.Point(gb_lon, gb_lat)"
   ]
  },
  {
   "cell_type": "code",
   "execution_count": 13,
   "id": "7d66df25-68ac-4ba8-8888-1a069c964492",
   "metadata": {},
   "outputs": [],
   "source": [
    "#explore a data feature of the Landsat images; we chose Band 2\n",
    "B2 = gdat.select('B2')\n",
    "gb_B2 = B2.getRegion(pt_gb, scale).getInfo()"
   ]
  },
  {
   "cell_type": "code",
   "execution_count": 14,
   "id": "d64bec6e-5e9b-4174-ac10-f2a949f28503",
   "metadata": {},
   "outputs": [
    {
     "name": "stdout",
     "output_type": "stream",
     "text": [
      "                        0          1          2              3     4\n",
      "0                      id  longitude   latitude           time    B2\n",
      "1    LC08_204052_20130503 -16.281965  12.158697  1367580233310   547\n",
      "2    LC08_204052_20130519 -16.281965  12.158697  1368962646080   512\n",
      "3    LC08_204052_20130706 -16.281965  12.158697  1373109844400  5396\n",
      "4    LC08_204052_20130823 -16.281965  12.158697  1377257047690  3138\n",
      "..                    ...        ...        ...            ...   ...\n",
      "279  LC08_205052_20210108 -16.281965  12.158697  1610105309776   363\n",
      "280  LC08_205052_20210124 -16.281965  12.158697  1611487704496   432\n",
      "281  LC08_205052_20210209 -16.281965  12.158697  1612870102194   530\n",
      "282  LC08_205052_20210225 -16.281965  12.158697  1614252496852   581\n",
      "283  LC08_205052_20210313 -16.281965  12.158697  1615634888176   766\n",
      "\n",
      "[284 rows x 5 columns]\n"
     ]
    }
   ],
   "source": [
    "#create a dataframe using Band 2 measurements for Sundarabans mangrove forest over time \n",
    "gb_df = pd.DataFrame(gb_B2)\n",
    "\n",
    "print(gb_df)"
   ]
  },
  {
   "cell_type": "markdown",
   "id": "74f81d93-bf74-4aa4-a7dd-c472d74b3055",
   "metadata": {},
   "source": [
    "Basic Visualization: \n",
    "\n",
    "Below, we look at pour dataset using a visualization. We create a simple map of our point of interest with bands B4, B3, and B2. "
   ]
  },
  {
   "cell_type": "code",
   "execution_count": 15,
   "id": "f89fe653-589d-41ad-ace5-e80193247c73",
   "metadata": {},
   "outputs": [],
   "source": [
    "gb_map_pt = ee.Geometry.Point([gb_lon, gb_lat])"
   ]
  },
  {
   "cell_type": "code",
   "execution_count": 16,
   "id": "088b0ba0-5d0e-47cd-9917-4a2e97a767a8",
   "metadata": {},
   "outputs": [],
   "source": [
    "gb_map_filt = gdat.filterBounds(gb_map_pt)"
   ]
  },
  {
   "cell_type": "code",
   "execution_count": 17,
   "id": "affb3fd2-7eec-41a8-b718-e7cc49900c76",
   "metadata": {},
   "outputs": [],
   "source": [
    "gbvisParams = {'bands': ['B4', 'B3', 'B2'],\n",
    "             'min': 0,\n",
    "             'max': 0.5\n",
    "            }"
   ]
  },
  {
   "cell_type": "code",
   "execution_count": 18,
   "id": "b4a8513d-bd43-4ade-95b2-dac97c97984f",
   "metadata": {},
   "outputs": [
    {
     "data": {
      "application/vnd.jupyter.widget-view+json": {
       "model_id": "0d04bd9306714da58c9d78c629909009",
       "version_major": 2,
       "version_minor": 0
      },
      "text/plain": [
       "Map(center=[12.1582165861, -16.283462202], controls=(WidgetControl(options=['position', 'transparent_bg'], wid…"
      ]
     },
     "metadata": {},
     "output_type": "display_data"
    }
   ],
   "source": [
    "gb_test_map = geemap.Map(center=[gb_lat, gb_lon], zoom=12)\n",
    "gb_test_map"
   ]
  },
  {
   "cell_type": "code",
   "execution_count": 19,
   "id": "d6e730dc-df82-4eb7-8920-cd9369e6469c",
   "metadata": {},
   "outputs": [],
   "source": [
    "gb_test_map.addLayer(gb_map_filt, gbvisParams)"
   ]
  },
  {
   "cell_type": "markdown",
   "id": "62354cdf-609f-487d-be51-9ea306997a69",
   "metadata": {},
   "source": [
    "<a id='usecases'></a> \n",
    "### Use Case Examples"
   ]
  },
  {
   "cell_type": "markdown",
   "id": "9e5b04a9-b2bb-40ed-bb8c-9c75d3494c38",
   "metadata": {},
   "source": [
    "This is the \"meat\" of the notebook, and what will take the majority of the time to present in class. This section should provide:\n",
    "\n",
    "2) Markdown and code blocks demonstrating how one walks through the desired use case example. This should be similar to the labs we've done in class: you might want to demonstrate how to isolate a particularly interesting time period, then create an image showing a feature you're interested in, for example.\n",
    "\n",
    "3) A discussion of the results and how they might be extended on further analysis. For example, we are doing El Nino/La Nina composites in class; a natural extension might be to look at individual events to see what their particular impacts were. Or if there are data quality issues which impact the results, you could discuss how these might be mitigated with additional information/analysis.\n",
    "\n",
    "Just keep in mind, you'll have roughly 20 minutes for your full presentation, and that goes surprisingly quickly! Probably 2-3 diagnostics is the most you'll be able to get through (you could try practicing with your group members to get a sense of timing).\n",
    "\n",
    "1.) The Cacheu National Park Mangrove Forest in Guinea-Bissau is a park located on the Cacheu River. The forest is the largest compact mangrove envrionment on West Africa's coast. The forest has been the recipient of reforestation efforts beginning in 2017. Knowing this documented effort overlapped with Landsat 8 data inspired our group to investigate vegetation indices in order to calculate canopy coverage before and after restoration interventions. \n",
    "\n",
    "This analysis looks at the success of this specific restoration effort by visualizing vegetation indices in 2014 and 2019. This analysis will be useful for stakeholders in mangrove restoration and/or management projects. Understanding and measuring the health and growth of mangrove forests is important because of their storm-protection benefits to global coastlines. \n",
    "\n",
    "2.) The code below utilizes the multispectral bands from Landsat 8 images over Cacheu National Park Mangrove Forest to calculate various vegetation indices for the mangrove forest. The Landsat 8 data for the visual and infared bands is lower resolution with pixels at 30 meters x 30 meters. Because vegetation indices assume these 30 m x 30 m units are homogenous, the utilization of multiple indices can help to better measure mangrove canopy coverage accuartely, since 30 x 30 m areas have heterogenous coverage, icnluding foliage, water, sand, and soil. \n",
    "\n",
    "We calculate multiple indices inspired by a 2017 paper published in Elsevier, titled \"A new approach for calculating mangrive camopy cover using Landsat 8 imagery,\" by Hesham Abd-El Monsef and Scot E. Smith. The authors calculate 7 indices to investigate mangrove canopy coverage. In addition to calculating the Normalized Differnece Vegetation Index (NDVI), we also calculate Normalized Difference Infared Index (NDII), and Normalized Difference Built-up Index (NDBI). \n",
    "\n",
    "The reason we utilized these indices is as follows: \n",
    "\n",
    "- **NDVI:** a standard measure of vegetation health that measures cholorphyll \n",
    "- **NDII:** a measure that's sensitive to changes in water storage and plant biomass\n",
    "- **NDBI:** a measure used to distinguish bare soil from vegetation \n",
    "\n"
   ]
  },
  {
   "cell_type": "markdown",
   "id": "ed2692c0-103d-4e88-9e1f-6e547e983e85",
   "metadata": {},
   "source": [
    "First we'll filter for the area of interest and create NDVI for 2014 and 2019, befpre and after restoration efforts. "
   ]
  },
  {
   "cell_type": "code",
   "execution_count": 29,
   "id": "502cc113-3604-45ce-af65-af113a0bad67",
   "metadata": {},
   "outputs": [],
   "source": [
    "#filter image collection using our point in Chacheu National Park Mangrove Forest\n",
    "gdat_filt = gdat.filterBounds(pt_gb)"
   ]
  },
  {
   "cell_type": "code",
   "execution_count": 30,
   "id": "6cee3ff0-cd35-4404-ab7f-3726b8fb18fc",
   "metadata": {},
   "outputs": [],
   "source": [
    "# create function to calculate NDVI for a given input image\n",
    "def addNDVI(image):\n",
    "    red = image.select('B4')\n",
    "    nir = image.select('B5')\n",
    "    \n",
    "    ndvi = (nir.subtract(red)).divide((nir.add(red))).rename('NDVI')\n",
    "    \n",
    "    return image.addBands(ndvi)\n",
    "\n",
    "\n",
    "# apply fuction to all images in our point of interest filter\n",
    "gdat_withndvi = gdat_filt.map(addNDVI) \n",
    "\n",
    "#create visable parameters for each band used in NDVI calculations\n",
    "ndviParams = {'bands': 'NDVI',\n",
    "              'min': -1, \n",
    "              'max': 1, \n",
    "              'palette': ['blue', 'white', 'green']\n",
    "             }"
   ]
  },
  {
   "cell_type": "code",
   "execution_count": 31,
   "id": "b604a5f3-6a0f-4d00-b418-a66d48b26b58",
   "metadata": {},
   "outputs": [],
   "source": [
    "#filter out the cloudy images over 20% cloud cover\n",
    "dat_nocld = gdat_withndvi.filter('CLOUD_COVER < 20')\n",
    "\n",
    "#filter for the time period 2014 \n",
    "date_2014 = dat_nocld.filter(ee.Filter.date('2014-01-01', '2014-12-31')).mean();\n",
    "\n",
    "#creating the basemap \n",
    "map_ndvi = geemap.Map(center = [gb_lat, gb_lon], zoom = 12)\n",
    "\n",
    "#add 2014 NDVI layer to map\n",
    "map_ndvi.addLayer(date_2014, ndviParams, \"2014\")"
   ]
  },
  {
   "cell_type": "markdown",
   "id": "5b91c14f-0b4c-40eb-a064-833890275fc9",
   "metadata": {},
   "source": [
    "Next, we create a second layer. This one represents NDVI for 2019. "
   ]
  },
  {
   "cell_type": "code",
   "execution_count": 32,
   "id": "020197fa-9c1e-4986-872f-c6cb0832522b",
   "metadata": {},
   "outputs": [],
   "source": [
    "#filter for the time period 2019 and create a temporal average \n",
    "date_2019 = dat_nocld.filter(ee.Filter.date('2019-01-01', '2019-12-31')).mean();\n",
    "\n",
    "#add 2019 NDVI layer to map\n",
    "map_ndvi.addLayer(date_2019, ndviParams, \"2019\")"
   ]
  },
  {
   "cell_type": "code",
   "execution_count": 33,
   "id": "a133df17-3633-4606-901b-063f2644e749",
   "metadata": {},
   "outputs": [
    {
     "data": {
      "application/vnd.jupyter.widget-view+json": {
       "model_id": "526efef8c88047abad07ee25e6e6493e",
       "version_major": 2,
       "version_minor": 0
      },
      "text/plain": [
       "Map(center=[12.1582165861, -16.283462202], controls=(WidgetControl(options=['position', 'transparent_bg'], wid…"
      ]
     },
     "metadata": {},
     "output_type": "display_data"
    }
   ],
   "source": [
    "#calling the map \n",
    "map_ndvi"
   ]
  },
  {
   "cell_type": "markdown",
   "id": "0f40b4bb-75ca-41ce-ae27-bd6ad290f16c",
   "metadata": {},
   "source": [
    "Next, we'll calculate NDII layers for the same two years:"
   ]
  },
  {
   "cell_type": "code",
   "execution_count": 34,
   "id": "89fcf57d-e426-4123-aaaf-cb61464eeb38",
   "metadata": {},
   "outputs": [],
   "source": [
    "# create function to calculate NDII for a given input image\n",
    "def addNDII(image):\n",
    "    mir = image.select('B6')\n",
    "    nir = image.select('B5')\n",
    "    \n",
    "    ndii = (nir.subtract(mir)).divide((nir.add(mir))).rename('NDII')\n",
    "    \n",
    "    return image.addBands(ndii)\n",
    "\n",
    "# apply fuction to all images in our point of interest filter\n",
    "gdat_withndii = gdat_filt.map(addNDII) \n",
    "\n",
    "#create visable parameters for each band used in NDII calculations\n",
    "ndiiParams = {'bands': 'NDII',\n",
    "              'min': -1, \n",
    "              'max': 1, \n",
    "              'palette': ['blue', 'white', 'green']\n",
    "             }\n",
    "\n",
    "#filter out the cloudy images over 20% cloud cover\n",
    "dat_nocld_ndii = gdat_withndii.filter('CLOUD_COVER < 20')\n",
    "\n",
    "#filter for the time period 2014 and create a temporal average \n",
    "date_2014_ndii = dat_nocld_ndii.filter(ee.Filter.date('2014-01-01', '2014-12-31')).mean();\n",
    "\n",
    "#creating the basemap \n",
    "map_ndii = geemap.Map(center = [gb_lat, gb_lon], zoom = 12)\n",
    "\n",
    "#add 2014 NDII layer to map\n",
    "map_ndii.addLayer(date_2014_ndii, ndiiParams, \"2014\")\n",
    "\n",
    "#filter for the time period 2019 and create a temporal average \n",
    "date_2019_ndii = dat_nocld_ndii.filter(ee.Filter.date('2019-01-01', '2019-12-31')).mean();\n",
    "\n",
    "#add 2019 NDII layer to map\n",
    "map_ndii.addLayer(date_2019_ndii, ndiiParams, \"2019\")"
   ]
  },
  {
   "cell_type": "code",
   "execution_count": 35,
   "id": "89b8e753-df62-4b14-87fa-280bc8063742",
   "metadata": {},
   "outputs": [
    {
     "data": {
      "application/vnd.jupyter.widget-view+json": {
       "model_id": "007ee779343c4340afc1fe94172227ed",
       "version_major": 2,
       "version_minor": 0
      },
      "text/plain": [
       "Map(center=[12.1582165861, -16.283462202], controls=(WidgetControl(options=['position', 'transparent_bg'], wid…"
      ]
     },
     "metadata": {},
     "output_type": "display_data"
    }
   ],
   "source": [
    "#calling the map with both years as layers \n",
    "map_ndii"
   ]
  },
  {
   "cell_type": "markdown",
   "id": "69f81d53-69ca-4e8f-a7f0-17d37e8138b7",
   "metadata": {},
   "source": [
    "Next, we'll calculate NDBI layers for the same two years:"
   ]
  },
  {
   "cell_type": "code",
   "execution_count": 36,
   "id": "78ab16bb-1cbb-4b0f-a207-bd423edf08ce",
   "metadata": {},
   "outputs": [],
   "source": [
    "# create function to calculate NDBI for a given input image\n",
    "def addNDBI(image):\n",
    "    mir = image.select('B6')\n",
    "    nir = image.select('B5')\n",
    "    \n",
    "    ndbi = (mir.subtract(nir)).divide((mir.add(nir))).rename('NDBI')\n",
    "    \n",
    "    return image.addBands(ndbi)\n",
    "\n",
    "# apply fuction to all images in our point of interest filter\n",
    "gdat_withndbi = gdat_filt.map(addNDBI) \n",
    "\n",
    "#create visable parameters for each band used in NDBI calculations\n",
    "ndbiParams = {'bands': 'NDBI',\n",
    "              'min': -1, \n",
    "              'max': 1, \n",
    "              'palette': ['blue', 'white', 'green']\n",
    "             }\n",
    "\n",
    "#filter out the cloudy images over 20% cloud cover\n",
    "dat_nocld_ndbi = gdat_withndbi.filter('CLOUD_COVER < 20')\n",
    "\n",
    "#filter for the time period 2014 and create a temporal average \n",
    "date_2014_ndbi = dat_nocld_ndbi.filter(ee.Filter.date('2014-01-01', '2014-12-31')).mean();\n",
    "\n",
    "#creating the basemap \n",
    "map_ndbi = geemap.Map(center = [gb_lat, gb_lon], zoom = 12)\n",
    "\n",
    "#add 2014 NDBI layer to map\n",
    "map_ndbi.addLayer(date_2014_ndbi, ndbiParams, \"2014\")\n",
    "\n",
    "#filter for the time period 2019 and create a temporal average \n",
    "date_2019_ndbi = dat_nocld_ndbi.filter(ee.Filter.date('2019-01-01', '2019-12-31')).mean();\n",
    "\n",
    "#add 2019 NDBI layer to map\n",
    "map_ndbi.addLayer(date_2019_ndbi, ndbiParams, \"2019\")"
   ]
  },
  {
   "cell_type": "code",
   "execution_count": 37,
   "id": "0d015a95-4efd-4ca3-ae25-c4c909fb9885",
   "metadata": {},
   "outputs": [
    {
     "data": {
      "application/vnd.jupyter.widget-view+json": {
       "model_id": "1291e20671054e2487d6114ae89d3086",
       "version_major": 2,
       "version_minor": 0
      },
      "text/plain": [
       "Map(center=[12.1582165861, -16.283462202], controls=(WidgetControl(options=['position', 'transparent_bg'], wid…"
      ]
     },
     "metadata": {},
     "output_type": "display_data"
    }
   ],
   "source": [
    "#calling the map \n",
    "map_ndbi"
   ]
  },
  {
   "cell_type": "code",
   "execution_count": 41,
   "id": "da2c8900-1ec8-4f54-a4b8-5adfd8f7d36d",
   "metadata": {},
   "outputs": [
    {
     "ename": "AttributeError",
     "evalue": "'float' object has no attribute 'multiply'",
     "output_type": "error",
     "traceback": [
      "\u001b[0;31m---------------------------------------------------------------------------\u001b[0m",
      "\u001b[0;31mAttributeError\u001b[0m                            Traceback (most recent call last)",
      "\u001b[0;32m/var/folders/5n/gm8qn6bx76q89r2h0_r2qkd80000gn/T/ipykernel_86380/4067933967.py\u001b[0m in \u001b[0;36m<module>\u001b[0;34m\u001b[0m\n\u001b[1;32m     12\u001b[0m \u001b[0;34m\u001b[0m\u001b[0m\n\u001b[1;32m     13\u001b[0m \u001b[0;31m# apply fuction to all\u001b[0m\u001b[0;34m\u001b[0m\u001b[0;34m\u001b[0m\u001b[0m\n\u001b[0;32m---> 14\u001b[0;31m \u001b[0mgdat_withgari\u001b[0m \u001b[0;34m=\u001b[0m \u001b[0mgdat_filt\u001b[0m\u001b[0;34m.\u001b[0m\u001b[0mmap\u001b[0m\u001b[0;34m(\u001b[0m\u001b[0maddGARI\u001b[0m\u001b[0;34m)\u001b[0m\u001b[0;34m\u001b[0m\u001b[0;34m\u001b[0m\u001b[0m\n\u001b[0m\u001b[1;32m     15\u001b[0m \u001b[0;34m\u001b[0m\u001b[0m\n\u001b[1;32m     16\u001b[0m \u001b[0;31m# the GARI isnt woring because it doesnt like the multiply\u001b[0m\u001b[0;34m\u001b[0m\u001b[0;34m\u001b[0m\u001b[0m\n",
      "\u001b[0;32m~/opt/anaconda3/envs/gee_env/lib/python3.9/site-packages/ee/collection.py\u001b[0m in \u001b[0;36mmap\u001b[0;34m(self, algorithm, opt_dropNulls)\u001b[0m\n\u001b[1;32m    196\u001b[0m     \u001b[0melement_type\u001b[0m \u001b[0;34m=\u001b[0m \u001b[0mself\u001b[0m\u001b[0;34m.\u001b[0m\u001b[0melementType\u001b[0m\u001b[0;34m(\u001b[0m\u001b[0;34m)\u001b[0m\u001b[0;34m\u001b[0m\u001b[0;34m\u001b[0m\u001b[0m\n\u001b[1;32m    197\u001b[0m     \u001b[0mwith_cast\u001b[0m \u001b[0;34m=\u001b[0m \u001b[0;32mlambda\u001b[0m \u001b[0me\u001b[0m\u001b[0;34m:\u001b[0m \u001b[0malgorithm\u001b[0m\u001b[0;34m(\u001b[0m\u001b[0melement_type\u001b[0m\u001b[0;34m(\u001b[0m\u001b[0me\u001b[0m\u001b[0;34m)\u001b[0m\u001b[0;34m)\u001b[0m\u001b[0;34m\u001b[0m\u001b[0;34m\u001b[0m\u001b[0m\n\u001b[0;32m--> 198\u001b[0;31m     return self._cast(apifunction.ApiFunction.call_(\n\u001b[0m\u001b[1;32m    199\u001b[0m         'Collection.map', self, with_cast, opt_dropNulls))\n\u001b[1;32m    200\u001b[0m \u001b[0;34m\u001b[0m\u001b[0m\n",
      "\u001b[0;32m~/opt/anaconda3/envs/gee_env/lib/python3.9/site-packages/ee/apifunction.py\u001b[0m in \u001b[0;36mcall_\u001b[0;34m(cls, name, *args, **kwargs)\u001b[0m\n\u001b[1;32m     79\u001b[0m       \u001b[0ma\u001b[0m \u001b[0mrecognized\u001b[0m \u001b[0;32mreturn\u001b[0m \u001b[0mtype\u001b[0m\u001b[0;34m,\u001b[0m \u001b[0mthe\u001b[0m \u001b[0mreturned\u001b[0m \u001b[0mvalue\u001b[0m \u001b[0mwill\u001b[0m \u001b[0mbe\u001b[0m \u001b[0mcast\u001b[0m \u001b[0mto\u001b[0m \u001b[0mthat\u001b[0m \u001b[0mtype\u001b[0m\u001b[0;34m.\u001b[0m\u001b[0;34m\u001b[0m\u001b[0;34m\u001b[0m\u001b[0m\n\u001b[1;32m     80\u001b[0m     \"\"\"\n\u001b[0;32m---> 81\u001b[0;31m     \u001b[0;32mreturn\u001b[0m \u001b[0mcls\u001b[0m\u001b[0;34m.\u001b[0m\u001b[0mlookup\u001b[0m\u001b[0;34m(\u001b[0m\u001b[0mname\u001b[0m\u001b[0;34m)\u001b[0m\u001b[0;34m.\u001b[0m\u001b[0mcall\u001b[0m\u001b[0;34m(\u001b[0m\u001b[0;34m*\u001b[0m\u001b[0margs\u001b[0m\u001b[0;34m,\u001b[0m \u001b[0;34m**\u001b[0m\u001b[0mkwargs\u001b[0m\u001b[0;34m)\u001b[0m\u001b[0;34m\u001b[0m\u001b[0;34m\u001b[0m\u001b[0m\n\u001b[0m\u001b[1;32m     82\u001b[0m \u001b[0;34m\u001b[0m\u001b[0m\n\u001b[1;32m     83\u001b[0m   \u001b[0;34m@\u001b[0m\u001b[0mclassmethod\u001b[0m\u001b[0;34m\u001b[0m\u001b[0;34m\u001b[0m\u001b[0m\n",
      "\u001b[0;32m~/opt/anaconda3/envs/gee_env/lib/python3.9/site-packages/ee/function.py\u001b[0m in \u001b[0;36mcall\u001b[0;34m(self, *args, **kwargs)\u001b[0m\n\u001b[1;32m     65\u001b[0m       \u001b[0mto\u001b[0m \u001b[0mthat\u001b[0m \u001b[0mtype\u001b[0m\u001b[0;34m.\u001b[0m\u001b[0;34m\u001b[0m\u001b[0;34m\u001b[0m\u001b[0m\n\u001b[1;32m     66\u001b[0m     \"\"\"\n\u001b[0;32m---> 67\u001b[0;31m     \u001b[0;32mreturn\u001b[0m \u001b[0mself\u001b[0m\u001b[0;34m.\u001b[0m\u001b[0mapply\u001b[0m\u001b[0;34m(\u001b[0m\u001b[0mself\u001b[0m\u001b[0;34m.\u001b[0m\u001b[0mnameArgs\u001b[0m\u001b[0;34m(\u001b[0m\u001b[0margs\u001b[0m\u001b[0;34m,\u001b[0m \u001b[0mkwargs\u001b[0m\u001b[0;34m)\u001b[0m\u001b[0;34m)\u001b[0m\u001b[0;34m\u001b[0m\u001b[0;34m\u001b[0m\u001b[0m\n\u001b[0m\u001b[1;32m     68\u001b[0m \u001b[0;34m\u001b[0m\u001b[0m\n\u001b[1;32m     69\u001b[0m   \u001b[0;32mdef\u001b[0m \u001b[0mapply\u001b[0m\u001b[0;34m(\u001b[0m\u001b[0mself\u001b[0m\u001b[0;34m,\u001b[0m \u001b[0mnamed_args\u001b[0m\u001b[0;34m)\u001b[0m\u001b[0;34m:\u001b[0m\u001b[0;34m\u001b[0m\u001b[0;34m\u001b[0m\u001b[0m\n",
      "\u001b[0;32m~/opt/anaconda3/envs/gee_env/lib/python3.9/site-packages/ee/function.py\u001b[0m in \u001b[0;36mapply\u001b[0;34m(self, named_args)\u001b[0m\n\u001b[1;32m     78\u001b[0m       \u001b[0mto\u001b[0m \u001b[0mthat\u001b[0m \u001b[0mtype\u001b[0m\u001b[0;34m.\u001b[0m\u001b[0;34m\u001b[0m\u001b[0;34m\u001b[0m\u001b[0m\n\u001b[1;32m     79\u001b[0m     \"\"\"\n\u001b[0;32m---> 80\u001b[0;31m     \u001b[0mresult\u001b[0m \u001b[0;34m=\u001b[0m \u001b[0mcomputedobject\u001b[0m\u001b[0;34m.\u001b[0m\u001b[0mComputedObject\u001b[0m\u001b[0;34m(\u001b[0m\u001b[0mself\u001b[0m\u001b[0;34m,\u001b[0m \u001b[0mself\u001b[0m\u001b[0;34m.\u001b[0m\u001b[0mpromoteArgs\u001b[0m\u001b[0;34m(\u001b[0m\u001b[0mnamed_args\u001b[0m\u001b[0;34m)\u001b[0m\u001b[0;34m)\u001b[0m\u001b[0;34m\u001b[0m\u001b[0;34m\u001b[0m\u001b[0m\n\u001b[0m\u001b[1;32m     81\u001b[0m     \u001b[0;32mreturn\u001b[0m \u001b[0mFunction\u001b[0m\u001b[0;34m.\u001b[0m\u001b[0m_promoter\u001b[0m\u001b[0;34m(\u001b[0m\u001b[0mresult\u001b[0m\u001b[0;34m,\u001b[0m \u001b[0mself\u001b[0m\u001b[0;34m.\u001b[0m\u001b[0mgetReturnType\u001b[0m\u001b[0;34m(\u001b[0m\u001b[0;34m)\u001b[0m\u001b[0;34m)\u001b[0m\u001b[0;34m\u001b[0m\u001b[0;34m\u001b[0m\u001b[0m\n\u001b[1;32m     82\u001b[0m \u001b[0;34m\u001b[0m\u001b[0m\n",
      "\u001b[0;32m~/opt/anaconda3/envs/gee_env/lib/python3.9/site-packages/ee/function.py\u001b[0m in \u001b[0;36mpromoteArgs\u001b[0;34m(self, args)\u001b[0m\n\u001b[1;32m    105\u001b[0m       \u001b[0mname\u001b[0m \u001b[0;34m=\u001b[0m \u001b[0mspec\u001b[0m\u001b[0;34m[\u001b[0m\u001b[0;34m'name'\u001b[0m\u001b[0;34m]\u001b[0m\u001b[0;34m\u001b[0m\u001b[0;34m\u001b[0m\u001b[0m\n\u001b[1;32m    106\u001b[0m       \u001b[0;32mif\u001b[0m \u001b[0mname\u001b[0m \u001b[0;32min\u001b[0m \u001b[0margs\u001b[0m\u001b[0;34m:\u001b[0m\u001b[0;34m\u001b[0m\u001b[0;34m\u001b[0m\u001b[0m\n\u001b[0;32m--> 107\u001b[0;31m         \u001b[0mpromoted_args\u001b[0m\u001b[0;34m[\u001b[0m\u001b[0mname\u001b[0m\u001b[0;34m]\u001b[0m \u001b[0;34m=\u001b[0m \u001b[0mFunction\u001b[0m\u001b[0;34m.\u001b[0m\u001b[0m_promoter\u001b[0m\u001b[0;34m(\u001b[0m\u001b[0margs\u001b[0m\u001b[0;34m[\u001b[0m\u001b[0mname\u001b[0m\u001b[0;34m]\u001b[0m\u001b[0;34m,\u001b[0m \u001b[0mspec\u001b[0m\u001b[0;34m[\u001b[0m\u001b[0;34m'type'\u001b[0m\u001b[0;34m]\u001b[0m\u001b[0;34m)\u001b[0m\u001b[0;34m\u001b[0m\u001b[0;34m\u001b[0m\u001b[0m\n\u001b[0m\u001b[1;32m    108\u001b[0m       \u001b[0;32melif\u001b[0m \u001b[0;32mnot\u001b[0m \u001b[0mspec\u001b[0m\u001b[0;34m.\u001b[0m\u001b[0mget\u001b[0m\u001b[0;34m(\u001b[0m\u001b[0;34m'optional'\u001b[0m\u001b[0;34m)\u001b[0m\u001b[0;34m:\u001b[0m\u001b[0;34m\u001b[0m\u001b[0;34m\u001b[0m\u001b[0m\n\u001b[1;32m    109\u001b[0m         raise ee_exception.EEException(\n",
      "\u001b[0;32m~/opt/anaconda3/envs/gee_env/lib/python3.9/site-packages/ee/__init__.py\u001b[0m in \u001b[0;36m_Promote\u001b[0;34m(arg, klass)\u001b[0m\n\u001b[1;32m    243\u001b[0m       \u001b[0;32melse\u001b[0m\u001b[0;34m:\u001b[0m\u001b[0;34m\u001b[0m\u001b[0;34m\u001b[0m\u001b[0m\n\u001b[1;32m    244\u001b[0m         \u001b[0margs_count\u001b[0m \u001b[0;34m=\u001b[0m \u001b[0mlen\u001b[0m\u001b[0;34m(\u001b[0m\u001b[0minspect\u001b[0m\u001b[0;34m.\u001b[0m\u001b[0mgetfullargspec\u001b[0m\u001b[0;34m(\u001b[0m\u001b[0marg\u001b[0m\u001b[0;34m)\u001b[0m\u001b[0;34m.\u001b[0m\u001b[0margs\u001b[0m\u001b[0;34m)\u001b[0m\u001b[0;34m\u001b[0m\u001b[0;34m\u001b[0m\u001b[0m\n\u001b[0;32m--> 245\u001b[0;31m       \u001b[0;32mreturn\u001b[0m \u001b[0mCustomFunction\u001b[0m\u001b[0;34m.\u001b[0m\u001b[0mcreate\u001b[0m\u001b[0;34m(\u001b[0m\u001b[0marg\u001b[0m\u001b[0;34m,\u001b[0m \u001b[0;34m'Object'\u001b[0m\u001b[0;34m,\u001b[0m \u001b[0;34m[\u001b[0m\u001b[0;34m'Object'\u001b[0m\u001b[0;34m]\u001b[0m \u001b[0;34m*\u001b[0m \u001b[0margs_count\u001b[0m\u001b[0;34m)\u001b[0m\u001b[0;34m\u001b[0m\u001b[0;34m\u001b[0m\u001b[0m\n\u001b[0m\u001b[1;32m    246\u001b[0m     \u001b[0;32melif\u001b[0m \u001b[0misinstance\u001b[0m\u001b[0;34m(\u001b[0m\u001b[0marg\u001b[0m\u001b[0;34m,\u001b[0m \u001b[0mEncodable\u001b[0m\u001b[0;34m)\u001b[0m\u001b[0;34m:\u001b[0m\u001b[0;34m\u001b[0m\u001b[0;34m\u001b[0m\u001b[0m\n\u001b[1;32m    247\u001b[0m       \u001b[0;31m# An ee.Function or a computed function like the return value of\u001b[0m\u001b[0;34m\u001b[0m\u001b[0;34m\u001b[0m\u001b[0m\n",
      "\u001b[0;32m~/opt/anaconda3/envs/gee_env/lib/python3.9/site-packages/ee/customfunction.py\u001b[0m in \u001b[0;36mcreate\u001b[0;34m(func, return_type, arg_types)\u001b[0m\n\u001b[1;32m    123\u001b[0m         \u001b[0;34m'args'\u001b[0m\u001b[0;34m:\u001b[0m \u001b[0margs\u001b[0m\u001b[0;34m\u001b[0m\u001b[0;34m\u001b[0m\u001b[0m\n\u001b[1;32m    124\u001b[0m     }\n\u001b[0;32m--> 125\u001b[0;31m     \u001b[0;32mreturn\u001b[0m \u001b[0mCustomFunction\u001b[0m\u001b[0;34m(\u001b[0m\u001b[0msignature\u001b[0m\u001b[0;34m,\u001b[0m \u001b[0mfunc\u001b[0m\u001b[0;34m)\u001b[0m\u001b[0;34m\u001b[0m\u001b[0;34m\u001b[0m\u001b[0m\n\u001b[0m\u001b[1;32m    126\u001b[0m \u001b[0;34m\u001b[0m\u001b[0m\n\u001b[1;32m    127\u001b[0m   \u001b[0;34m@\u001b[0m\u001b[0mstaticmethod\u001b[0m\u001b[0;34m\u001b[0m\u001b[0;34m\u001b[0m\u001b[0m\n",
      "\u001b[0;32m~/opt/anaconda3/envs/gee_env/lib/python3.9/site-packages/ee/customfunction.py\u001b[0m in \u001b[0;36m__init__\u001b[0;34m(self, signature, body)\u001b[0m\n\u001b[1;32m     41\u001b[0m                  for arg in signature['args']]\n\u001b[1;32m     42\u001b[0m \u001b[0;34m\u001b[0m\u001b[0m\n\u001b[0;32m---> 43\u001b[0;31m     \u001b[0;32mif\u001b[0m \u001b[0mbody\u001b[0m\u001b[0;34m(\u001b[0m\u001b[0;34m*\u001b[0m\u001b[0mvariables\u001b[0m\u001b[0;34m)\u001b[0m \u001b[0;32mis\u001b[0m \u001b[0;32mNone\u001b[0m\u001b[0;34m:\u001b[0m\u001b[0;34m\u001b[0m\u001b[0;34m\u001b[0m\u001b[0m\n\u001b[0m\u001b[1;32m     44\u001b[0m       \u001b[0;32mraise\u001b[0m \u001b[0mee_exception\u001b[0m\u001b[0;34m.\u001b[0m\u001b[0mEEException\u001b[0m\u001b[0;34m(\u001b[0m\u001b[0;34m'User-defined methods must return a value'\u001b[0m\u001b[0;34m)\u001b[0m\u001b[0;34m\u001b[0m\u001b[0;34m\u001b[0m\u001b[0m\n\u001b[1;32m     45\u001b[0m \u001b[0;34m\u001b[0m\u001b[0m\n",
      "\u001b[0;32m~/opt/anaconda3/envs/gee_env/lib/python3.9/site-packages/ee/collection.py\u001b[0m in \u001b[0;36m<lambda>\u001b[0;34m(e)\u001b[0m\n\u001b[1;32m    195\u001b[0m     \"\"\"\n\u001b[1;32m    196\u001b[0m     \u001b[0melement_type\u001b[0m \u001b[0;34m=\u001b[0m \u001b[0mself\u001b[0m\u001b[0;34m.\u001b[0m\u001b[0melementType\u001b[0m\u001b[0;34m(\u001b[0m\u001b[0;34m)\u001b[0m\u001b[0;34m\u001b[0m\u001b[0;34m\u001b[0m\u001b[0m\n\u001b[0;32m--> 197\u001b[0;31m     \u001b[0mwith_cast\u001b[0m \u001b[0;34m=\u001b[0m \u001b[0;32mlambda\u001b[0m \u001b[0me\u001b[0m\u001b[0;34m:\u001b[0m \u001b[0malgorithm\u001b[0m\u001b[0;34m(\u001b[0m\u001b[0melement_type\u001b[0m\u001b[0;34m(\u001b[0m\u001b[0me\u001b[0m\u001b[0;34m)\u001b[0m\u001b[0;34m)\u001b[0m\u001b[0;34m\u001b[0m\u001b[0;34m\u001b[0m\u001b[0m\n\u001b[0m\u001b[1;32m    198\u001b[0m     return self._cast(apifunction.ApiFunction.call_(\n\u001b[1;32m    199\u001b[0m         'Collection.map', self, with_cast, opt_dropNulls))\n",
      "\u001b[0;32m/var/folders/5n/gm8qn6bx76q89r2h0_r2qkd80000gn/T/ipykernel_86380/4067933967.py\u001b[0m in \u001b[0;36maddGARI\u001b[0;34m(image)\u001b[0m\n\u001b[1;32m      7\u001b[0m     \u001b[0mnir\u001b[0m \u001b[0;34m=\u001b[0m \u001b[0mimage\u001b[0m\u001b[0;34m.\u001b[0m\u001b[0mselect\u001b[0m\u001b[0;34m(\u001b[0m\u001b[0;34m'B5'\u001b[0m\u001b[0;34m)\u001b[0m\u001b[0;34m\u001b[0m\u001b[0;34m\u001b[0m\u001b[0m\n\u001b[1;32m      8\u001b[0m \u001b[0;34m\u001b[0m\u001b[0m\n\u001b[0;32m----> 9\u001b[0;31m     \u001b[0mgari\u001b[0m \u001b[0;34m=\u001b[0m \u001b[0;34m(\u001b[0m\u001b[0mnir\u001b[0m\u001b[0;34m.\u001b[0m\u001b[0msubtract\u001b[0m\u001b[0;34m(\u001b[0m\u001b[0mgreen\u001b[0m\u001b[0;34m.\u001b[0m\u001b[0msubtract\u001b[0m\u001b[0;34m(\u001b[0m\u001b[0;34m(\u001b[0m\u001b[0;36m1.7\u001b[0m\u001b[0;34m)\u001b[0m\u001b[0;34m.\u001b[0m\u001b[0mmultiply\u001b[0m\u001b[0;34m(\u001b[0m\u001b[0mblue\u001b[0m\u001b[0;34m.\u001b[0m\u001b[0msubtract\u001b[0m\u001b[0;34m(\u001b[0m\u001b[0mred\u001b[0m\u001b[0;34m)\u001b[0m\u001b[0;34m)\u001b[0m\u001b[0;34m)\u001b[0m\u001b[0;34m)\u001b[0m\u001b[0;34m.\u001b[0m\u001b[0mdivide\u001b[0m\u001b[0;34m(\u001b[0m\u001b[0mnir\u001b[0m\u001b[0;34m.\u001b[0m\u001b[0msubtract\u001b[0m\u001b[0;34m(\u001b[0m\u001b[0mgreen\u001b[0m\u001b[0;34m.\u001b[0m\u001b[0madd\u001b[0m\u001b[0;34m(\u001b[0m\u001b[0;36m1.7\u001b[0m\u001b[0;34m.\u001b[0m\u001b[0mmultiply\u001b[0m\u001b[0;34m(\u001b[0m\u001b[0mblue\u001b[0m\u001b[0;34m.\u001b[0m\u001b[0msubtract\u001b[0m\u001b[0;34m(\u001b[0m\u001b[0mred\u001b[0m\u001b[0;34m)\u001b[0m\u001b[0;34m)\u001b[0m\u001b[0;34m)\u001b[0m\u001b[0;34m)\u001b[0m\u001b[0;34m)\u001b[0m\u001b[0;34m)\u001b[0m\u001b[0;34m\u001b[0m\u001b[0;34m\u001b[0m\u001b[0m\n\u001b[0m\u001b[1;32m     10\u001b[0m \u001b[0;34m\u001b[0m\u001b[0m\n\u001b[1;32m     11\u001b[0m     \u001b[0;32mreturn\u001b[0m \u001b[0mimage\u001b[0m\u001b[0;34m.\u001b[0m\u001b[0maddBands\u001b[0m\u001b[0;34m(\u001b[0m\u001b[0mgari\u001b[0m\u001b[0;34m)\u001b[0m\u001b[0;34m\u001b[0m\u001b[0;34m\u001b[0m\u001b[0m\n",
      "\u001b[0;31mAttributeError\u001b[0m: 'float' object has no attribute 'multiply'"
     ]
    }
   ],
   "source": [
    "# trying the GARI \n",
    "\n",
    "def addGARI(image):\n",
    "    green = image.select('B3')\n",
    "    blue = image.select('B2')\n",
    "    red = image.select('B4')\n",
    "    nir = image.select('B5')\n",
    "    \n",
    "    #gari = (nir.subtract(green.subtract((1.7).multiply(blue.subtract(red)))).divide(nir.subtract(green.add(1.7.multiply(blue.subtract(red))))))\n",
    "    \n",
    "    #return image.addBands(gari)\n",
    "\n",
    "# apply fuction to all\n",
    "#gdat_withgari = gdat_filt.map(addGARI)\n",
    "\n",
    "# the GARI isnt woring because it doesnt like the multiply \n"
   ]
  },
  {
   "cell_type": "code",
   "execution_count": 47,
   "id": "a47cbede-1176-4fb9-8385-4f55bff3adee",
   "metadata": {},
   "outputs": [
    {
     "ename": "NameError",
     "evalue": "name 'blue' is not defined",
     "output_type": "error",
     "traceback": [
      "\u001b[0;31m---------------------------------------------------------------------------\u001b[0m",
      "\u001b[0;31mNameError\u001b[0m                                 Traceback (most recent call last)",
      "\u001b[0;32m/var/folders/5n/gm8qn6bx76q89r2h0_r2qkd80000gn/T/ipykernel_86380/3154181440.py\u001b[0m in \u001b[0;36m<module>\u001b[0;34m\u001b[0m\n\u001b[1;32m      7\u001b[0m \u001b[0;31m#gari = (nir.subtract(green.subtract((1.7).multiply(blue.subtract(red)))).divide(nir.subtract(green.add(1.7.multiply(blue.subtract(red))))))\u001b[0m\u001b[0;34m\u001b[0m\u001b[0;34m\u001b[0m\u001b[0m\n\u001b[1;32m      8\u001b[0m \u001b[0;34m\u001b[0m\u001b[0m\n\u001b[0;32m----> 9\u001b[0;31m \u001b[0mtest\u001b[0m \u001b[0;34m=\u001b[0m \u001b[0mblue\u001b[0m\u001b[0;34m.\u001b[0m\u001b[0msubtract\u001b[0m\u001b[0;34m(\u001b[0m\u001b[0mred\u001b[0m\u001b[0;34m)\u001b[0m\u001b[0;34m\u001b[0m\u001b[0;34m\u001b[0m\u001b[0m\n\u001b[0m\u001b[1;32m     10\u001b[0m \u001b[0;34m\u001b[0m\u001b[0m\n\u001b[1;32m     11\u001b[0m \u001b[0;32mreturn\u001b[0m \u001b[0mimage\u001b[0m\u001b[0;34m.\u001b[0m\u001b[0maddBands\u001b[0m\u001b[0;34m(\u001b[0m\u001b[0mtest\u001b[0m\u001b[0;34m)\u001b[0m\u001b[0;34m\u001b[0m\u001b[0;34m\u001b[0m\u001b[0m\n",
      "\u001b[0;31mNameError\u001b[0m: name 'blue' is not defined"
     ]
    }
   ],
   "source": [
    "def addGARI(image):\n",
    "    green = image.select('B3')\n",
    "    blue = image.select('B2')\n",
    "    red = image.select('B4')\n",
    "    nir = image.select('B5')\n",
    "    \n",
    "#gari = (nir.subtract(green.subtract((1.7).multiply(blue.subtract(red)))).divide(nir.subtract(green.add(1.7.multiply(blue.subtract(red))))))\n",
    "    \n",
    "test = blue.subtract(red)\n",
    "\n",
    "return image.addBands(test)"
   ]
  },
  {
   "cell_type": "code",
   "execution_count": null,
   "id": "810c3991-0d1d-4d47-9ba2-29a139cdd984",
   "metadata": {},
   "outputs": [],
   "source": []
  },
  {
   "cell_type": "code",
   "execution_count": null,
   "id": "9b9c1572-2abc-4ff0-81e9-b13c981f8d00",
   "metadata": {},
   "outputs": [],
   "source": []
  },
  {
   "cell_type": "markdown",
   "id": "9d07de0d-1e81-442a-a895-7b7fd7906385",
   "metadata": {},
   "source": [
    "<a id='binder'></a> \n",
    "### Create Binder Environment\n",
    "\n",
    "The last step is to create a Binder environment for your project, so that we don't have to spend time configuring everyone's environment each time we switch between group presentations. Instructions are below:\n",
    "\n",
    " - Assemble all of the data needed in your Github repo: Jupyter notebooks, a README file, and any datasets needed (these should be small, if included within the repo). Larger datasets should be stored on a separate server, and access codes included within the Jupyter notebook as discussed above. \n",
    " \n",
    " - Create an _environment_ file: this is a text file which contains information on the packages needed in order to execute your code. The filename should be \"environment.yml\": an example that you can use for the proper syntax is included in this template repo. To determine which packages to include, you'll probably want to start by displaying the packages loaded in your environment: you can use the command `conda list -n [environment_name]` to get a list.\n",
    " \n",
    " More information on environment files can be found here:\n",
    " https://docs.conda.io/projects/conda/en/latest/user-guide/tasks/manage-environments.html#\n",
    "\n",
    " - Create Binder. Use http://mybinder.org to create a  URL for your notebook Binder (you will need to enter your GitHub repo URL). You can also add a Launch Binder button directly to your GitHub repo, by including the following in your README.md:\n",
    "\n",
    "```\n",
    "launch with myBinder\n",
    "[![Binder](https://mybinder.org/badge.svg)](https://mybinder.org/v2/gh/<path to your repo>)\n",
    "```"
   ]
  },
  {
   "cell_type": "markdown",
   "id": "c62c774b-8a7c-4f47-9c07-7f9823c48473",
   "metadata": {},
   "source": [
    "<a id='references'></a> \n",
    "### References\n",
    "\n",
    "List relevant references. Here are some additional resources on creating professional, shareable notebooks you may find useful:\n",
    "\n",
    "1. Notebook sharing guidelines from reproducible-science-curriculum: https://reproducible-science-curriculum.github.io/publication-RR-Jupyter/\n",
    "2. Guide for developing shareable notebooks by Kevin Coakley, SDSC: https://github.com/kevincoakley/sharing-jupyter-notebooks/raw/master/Jupyter-Notebooks-Sharing-Recommendations.pdf\n",
    "3. Guide for sharing notebooks by Andrea Zonca, SDSC: https://zonca.dev/2020/09/how-to-share-jupyter-notebooks.html\n",
    "4. Jupyter Notebook Best Practices: https://towardsdatascience.com/jupyter-notebook-best-practices-f430a6ba8c69\n",
    "5. Introduction to Jupyter templates nbextension: https://towardsdatascience.com/stop-copy-pasting-notebooks-embrace-jupyter-templates-6bd7b6c00b94  \n",
    "    5.1. Table of Contents (Toc2) readthedocs: https://jupyter-contrib-nbextensions.readthedocs.io/en/latest/nbextensions/toc2/README.html  \n",
    "    5.2. Steps to install toc2: https://stackoverflow.com/questions/23435723/installing-ipython-notebook-table-of-contents\n",
    "6. Rule A, Birmingham A, Zuniga C, Altintas I, Huang SC, et al. (2019) Ten simple rules for writing and sharing computational analyses in Jupyter Notebooks. PLOS Computational Biology 15(7): e1007007. https://doi.org/10.1371/journal.pcbi.1007007. Supplementary materials: example notebooks (https://github.com/jupyter-guide/ten-rules-jupyter) and tutorial (https://github.com/ISMB-ECCB-2019-Tutorial-AM4/reproducible-computational-workflows)\n",
    "7. Languages supported by Jupyter kernels: https://github.com/jupyter/jupyter/wiki/Jupyter-kernels\n",
    "8. EarthCube notebooks presented at EC Annual Meeting 2020: https://www.earthcube.org/notebooks\n",
    "9. Manage your Python Virtual Environment with Conda: https://towardsdatascience.com/manage-your-python-virtual-environment-with-conda-a0d2934d5195\n",
    "10. Venv - Creation of Virtual Environments: https://docs.python.org/3/library/venv.html"
   ]
  },
  {
   "cell_type": "code",
   "execution_count": null,
   "id": "e9f10df5-100c-4f4a-a1c3-bd417b524a61",
   "metadata": {},
   "outputs": [],
   "source": []
  }
 ],
 "metadata": {
  "kernelspec": {
   "display_name": "Python 3 (ipykernel)",
   "language": "python",
   "name": "python3"
  },
  "language_info": {
   "codemirror_mode": {
    "name": "ipython",
    "version": 3
   },
   "file_extension": ".py",
   "mimetype": "text/x-python",
   "name": "python",
   "nbconvert_exporter": "python",
   "pygments_lexer": "ipython3",
   "version": "3.9.7"
  }
 },
 "nbformat": 4,
 "nbformat_minor": 5
}
