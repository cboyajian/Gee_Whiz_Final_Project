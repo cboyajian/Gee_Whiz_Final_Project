{
 "cells": [
  {
   "cell_type": "markdown",
   "id": "2646a34e-a634-47ac-9fe7-73bf40ece8ae",
   "metadata": {},
   "source": [
    "# HW3 GEE_Whiz: Dataset Overview and Use Case Examples\n",
    "## EDS 220, Fall 2021"
   ]
  },
  {
   "cell_type": "markdown",
   "id": "56a405bf-2d38-4175-a931-f52905e11211",
   "metadata": {},
   "source": [
    "## Mangrove Canopy Coverage from LANDSAT 8 Before and After Restoration"
   ]
  },
  {
   "cell_type": "markdown",
   "id": "dc47afd0-adb0-4d5b-8903-992b7904322e",
   "metadata": {},
   "source": [
    "## Authors\n",
    "- Allie Cole, UC Santa Barbara (icole@bren.ucsb.edu) <br>\n",
    "  https://alliecole.github.io/\n",
    "- Clarissa Boyajia, UC Santa Barbara (cboyajian@bren.ucsb.edu) <br>\n",
    "  https://cboyajian.github.io/\n",
    "- Scout Leonard, UC Santa Barbara (scout@bren.ucsb.edu) <br>\n",
    "  https://scoutcleonard.github.io/"
   ]
  },
  {
   "cell_type": "markdown",
   "id": "1e8c2013-fef1-44ac-bb00-3215807cacac",
   "metadata": {},
   "source": [
    "## Table of Contents\n",
    "\n",
    "[1. Purpose](#purpose)\n",
    "\n",
    "[2. Dataset Description](#overview)\n",
    "\n",
    "[3. Data I/O](#io)\n",
    "\n",
    "[4. Metadata Display and Basic Visualization](#display)\n",
    "\n",
    "[5. Use Case Examples](#usecases)\n",
    "\n",
    "[6. Future Analysis](#future)\n",
    "\n",
    "[7. References](#references)"
   ]
  },
  {
   "cell_type": "markdown",
   "id": "ba52c6e3-3584-48be-b500-21578b61bd72",
   "metadata": {},
   "source": [
    "<a id='purpose'></a> \n",
    "### Notebook Purpose\n",
    "\n",
    "This notebook was created to give an overview and short tutorial on how to calculate mangrove canopy coverage percentages using data from the NASA & USGS Landsat 8 dataset. For the tutorial, we will focus on the Cacheu River Mangroves Natural Park in the Republic of Guinea-Bissau in West Africa where restoration efforts began in 2017."
   ]
  },
  {
   "cell_type": "markdown",
   "id": "d429260a-2c30-44da-a5af-e100a440056a",
   "metadata": {},
   "source": [
    "<a id='overview'></a> \n",
    "### Dataset Description\n",
    "\n",
    "[The Landsat 8](https://developers.google.com/earth-engine/datasets/catalog/landsat-8) data collection is supported jointly by NASA and hosted by the USGS. It is accessible through the [Google Earth Engine (GEE) API](https://earthengine.google.com). Landsat 8 data can be downloaded in many different formats depending on how you want to manipulate it. The data includes 9 bands: 5 visible and near-infared (NIR) bands, 2 short-wave infared (SWIR), and 2 thermal infared (TIR) bands. \n",
    "\n",
    "Various products offer varying combinations of bands. The data found in these products comes from USGS in the form of .TIFFs and .JPEGs.\n",
    "\n",
    "The Landsat 8 satellite data were collected as global atmospherically corrected surface reflectance from the Landsat 8 OLI/TIRS sensors for every 8-16 days starting in 2013. The downside to this data is the lower resolution, especially for the context of visualizing mangroves, which we discuss this more in our calculations section. \n"
   ]
  },
  {
   "cell_type": "markdown",
   "id": "02d5cb75-cb54-4708-8b88-459cae2ca17d",
   "metadata": {},
   "source": [
    "<a id='io'></a> \n",
    "### Dataset Input/Output \n",
    "\n",
    "Below we install necessary packages, authenticate GEE, define parameters for our mangrove calculations, and explore the data by pulling a sample image, associated variables, and creating a test map to see that the visible bands work"
   ]
  },
  {
   "cell_type": "code",
   "execution_count": 1,
   "id": "792b74ff-c389-4a4c-a755-554bdb33e522",
   "metadata": {},
   "outputs": [],
   "source": [
    "#import all necessary packages \n",
    "import ee\n",
    "import geemap\n",
    "import pandas as pd\n",
    "import matplotlib.pyplot as plt\n",
    "import numpy as np"
   ]
  },
  {
   "cell_type": "code",
   "execution_count": 5,
   "id": "45422ce4-648c-4a75-b23e-929d1f4eb5e3",
   "metadata": {},
   "outputs": [
    {
     "data": {
      "text/html": [
       "<p>To authorize access needed by Earth Engine, open the following\n",
       "        URL in a web browser and follow the instructions:</p>\n",
       "        <p><a href=https://accounts.google.com/o/oauth2/auth?client_id=517222506229-vsmmajv00ul0bs7p89v5m89qs8eb9359.apps.googleusercontent.com&scope=https%3A%2F%2Fwww.googleapis.com%2Fauth%2Fearthengine+https%3A%2F%2Fwww.googleapis.com%2Fauth%2Fdevstorage.full_control&redirect_uri=urn%3Aietf%3Awg%3Aoauth%3A2.0%3Aoob&response_type=code&code_challenge=YvMk2IG7KYj90NBfWjDJQrm3uCgQB9Z3DEGdmyZrPNo&code_challenge_method=S256>https://accounts.google.com/o/oauth2/auth?client_id=517222506229-vsmmajv00ul0bs7p89v5m89qs8eb9359.apps.googleusercontent.com&scope=https%3A%2F%2Fwww.googleapis.com%2Fauth%2Fearthengine+https%3A%2F%2Fwww.googleapis.com%2Fauth%2Fdevstorage.full_control&redirect_uri=urn%3Aietf%3Awg%3Aoauth%3A2.0%3Aoob&response_type=code&code_challenge=YvMk2IG7KYj90NBfWjDJQrm3uCgQB9Z3DEGdmyZrPNo&code_challenge_method=S256</a></p>\n",
       "        <p>The authorization workflow will generate a code, which you\n",
       "        should paste in the box below</p>\n",
       "        "
      ],
      "text/plain": [
       "<IPython.core.display.HTML object>"
      ]
     },
     "metadata": {},
     "output_type": "display_data"
    },
    {
     "name": "stdin",
     "output_type": "stream",
     "text": [
      "Enter verification code:  4/1AX4XfWiH41JUDpKvQD_RON98BgaI3OJOU6r6tA7jO6AJ3up-vzeMYHEixHw\n"
     ]
    },
    {
     "name": "stdout",
     "output_type": "stream",
     "text": [
      "\n",
      "Successfully saved authorization token.\n"
     ]
    }
   ],
   "source": [
    "#authorize google earth engine access \n",
    "ee.Authenticate()\n",
    "ee.Initialize()"
   ]
  },
  {
   "cell_type": "code",
   "execution_count": 6,
   "id": "e6224f67-56af-491f-ae31-798a2e41ee63",
   "metadata": {},
   "outputs": [],
   "source": [
    "#set parameters\n",
    "gee_landsat8_api = \"LANDSAT/LC08/C01/T1_TOA\"\n",
    "\n",
    "gb_lat = 12.1582165861 #latitude for poi in guinea-bissau\n",
    "gb_lon = -16.283462202 #latitude for poi in guinea-bissau\n",
    "\n",
    "scale = 1000   # scale in m"
   ]
  },
  {
   "cell_type": "code",
   "execution_count": 7,
   "id": "c1bc51f7-8788-4a16-8927-9f0da8d16ccd",
   "metadata": {},
   "outputs": [],
   "source": [
    "#load data\n",
    "gdat = ee.ImageCollection(gee_landsat8_api)"
   ]
  },
  {
   "cell_type": "markdown",
   "id": "30253e61-0707-4540-9c86-9afc6df27958",
   "metadata": {},
   "source": [
    "<a id='display'></a> \n",
    "### Metadata Display and Basic Visualization\n",
    "\n",
    "#### Landsat8 Data quality and missing data\n",
    "\n",
    "Landsat 8 revisits a location every 8-16 days, which is at a much higher rate when compared to most other satellites. Additionally, Landsat 8 captures a range of multispectral bands, which we explore below. The Landsat 8 resolution is 30 meters (visible, NIR, SWIR); 100 meters (thermal); and 15 meters (panchromatic).\n",
    "\n",
    "The frequent revisitation rate and free access makes this a good dataset for our purposes. The downside to this data is the lower resolution. \n",
    "\n",
    "#### Exploring the metadata\n",
    "\n",
    "To explore the Landsat 8 metadata, we call the first image in the image collaction below, and then extract the variable names from that image. We also visualized in the test map below the Cacheu National Park Mangrove Forest in Guinea-Bissau."
   ]
  },
  {
   "cell_type": "code",
   "execution_count": 20,
   "id": "70cefdb9-0629-4cd2-9886-4a01d8bc536c",
   "metadata": {},
   "outputs": [],
   "source": [
    "# pull the first image in the collection \n"
   ]
  },
  {
   "cell_type": "code",
   "execution_count": 8,
   "id": "1206658b-ace8-4eb8-bda7-dc3250a6d729",
   "metadata": {},
   "outputs": [],
   "source": [
    "# Looking at the Meta Data properties \n",
    "    # ee.List of metadata properties"
   ]
  },
  {
   "cell_type": "markdown",
   "id": "56b0f4ea-f810-4c62-b2f2-07f356de5a61",
   "metadata": {},
   "source": [
    "The code chunk below uses the first image in the collection to call the variables included in the images of our Landsat 8 data:"
   ]
  },
  {
   "cell_type": "code",
   "execution_count": 22,
   "id": "78f37d79-f11f-4e18-b99d-5988d49bdf48",
   "metadata": {},
   "outputs": [
    {
     "data": {
      "text/plain": [
       "\"['B1', 'B2', 'B3', 'B4', 'B5', 'B6', 'B7', 'B8', 'B9', 'B10', 'B11', 'BQA']\""
      ]
     },
     "execution_count": 22,
     "metadata": {},
     "output_type": "execute_result"
    }
   ],
   "source": [
    "#extract a list containing the names of the bands \n"
   ]
  },
  {
   "cell_type": "markdown",
   "id": "520a0077-5f49-407b-8501-2c124b483d8b",
   "metadata": {},
   "source": [
    "We can see from the returned results that the dataset has 12 variables. Their names are:\n",
    "\n",
    "- `B1` : coastal aerosol\n",
    "- `B2` : blue\n",
    "- `B3`: green\n",
    "- `B4`: red\n",
    "- `B5` : near infared\n",
    "- `B6` : shortwave infared 1\n",
    "- `B7` : shortwave infared 2\n",
    "- `B8` : band 8 panochromatic\n",
    "- `B9`: cirrus\n",
    "- `B10` : thermal infared 1\n",
    "- `B11` : thermal infared 2\n",
    "- `sr_aerosol`: aerosol attricutes\n",
    "- `pixel_qa` : pixel quality attributes generated from the CFMASK algorithm \n",
    "- `radsat_qa`: radiometric saturation QA\n",
    "\n",
    "We know the definitions of the bands from [Landsat 8 metadata](https://developers.google.com/earth-engine/datasets/catalog/LANDSAT_LC08_C01_T1_SR) from Google Earth Engine."
   ]
  },
  {
   "cell_type": "code",
   "execution_count": 23,
   "id": "ebb0e8bb-4b27-43c3-b89c-c4748400b889",
   "metadata": {},
   "outputs": [],
   "source": [
    "#select the region: Cacheu National Park Mangrove Forest\n"
   ]
  },
  {
   "cell_type": "code",
   "execution_count": 24,
   "id": "7d66df25-68ac-4ba8-8888-1a069c964492",
   "metadata": {},
   "outputs": [],
   "source": [
    "#explore a data feature of the Landsat images; we chose Band 2\n"
   ]
  },
  {
   "cell_type": "code",
   "execution_count": 25,
   "id": "d64bec6e-5e9b-4174-ac10-f2a949f28503",
   "metadata": {},
   "outputs": [
    {
     "name": "stdout",
     "output_type": "stream",
     "text": [
      "                        0          1          2              3         4\n",
      "0                      id  longitude   latitude           time        B2\n",
      "1    LC08_204052_20130503 -16.281965  12.158697  1367580233310  0.119386\n",
      "2    LC08_204052_20130519 -16.281965  12.158697  1368962646080  0.115767\n",
      "3    LC08_204052_20130706 -16.281965  12.158697  1373109844400  0.546247\n",
      "4    LC08_204052_20130823 -16.281965  12.158697  1377257047690  0.337861\n",
      "..                    ...        ...        ...            ...       ...\n",
      "465  LC08_205052_20210430 -16.281965  12.158697  1619782069053  0.121051\n",
      "466  LC08_205052_20210516 -16.281965  12.158697  1621164471929  0.127367\n",
      "467  LC08_205052_20210617 -16.281965  12.158697  1623929286840  0.119166\n",
      "468  LC08_205052_20211007 -16.281965  12.158697  1633606119659  0.157453\n",
      "469  LC08_205052_20211108 -16.281965  12.158697  1636370919687  0.108191\n",
      "\n",
      "[470 rows x 5 columns]\n"
     ]
    }
   ],
   "source": [
    "#create a dataframe using Band 2 measurements for Sundarabans mangrove forest over time \n"
   ]
  },
  {
   "cell_type": "markdown",
   "id": "74f81d93-bf74-4aa4-a7dd-c472d74b3055",
   "metadata": {},
   "source": [
    "Basic Visualization: \n",
    "\n",
    "Below, we look at our dataset using a visualization. We create a simple map of our point of interest with bands B4, B3, and B2. "
   ]
  },
  {
   "cell_type": "code",
   "execution_count": 26,
   "id": "f89fe653-589d-41ad-ace5-e80193247c73",
   "metadata": {},
   "outputs": [],
   "source": [
    "#Creating a base map using our gb point\n"
   ]
  },
  {
   "cell_type": "code",
   "execution_count": 27,
   "id": "088b0ba0-5d0e-47cd-9917-4a2e97a767a8",
   "metadata": {},
   "outputs": [],
   "source": [
    "# Filtering using the point\n"
   ]
  },
  {
   "cell_type": "code",
   "execution_count": 28,
   "id": "affb3fd2-7eec-41a8-b718-e7cc49900c76",
   "metadata": {},
   "outputs": [],
   "source": [
    "# selecting the bands for our paramaters \n"
   ]
  },
  {
   "cell_type": "code",
   "execution_count": 29,
   "id": "b4a8513d-bd43-4ade-95b2-dac97c97984f",
   "metadata": {},
   "outputs": [
    {
     "data": {
      "application/vnd.jupyter.widget-view+json": {
       "model_id": "bf082f644f9a4463bdcf3b09f81073a7",
       "version_major": 2,
       "version_minor": 0
      },
      "text/plain": [
       "Map(center=[12.1582165861, -16.283462202], controls=(WidgetControl(options=['position', 'transparent_bg'], wid…"
      ]
     },
     "metadata": {},
     "output_type": "display_data"
    }
   ],
   "source": [
    "#testing the map \n"
   ]
  },
  {
   "cell_type": "code",
   "execution_count": 30,
   "id": "d6e730dc-df82-4eb7-8920-cd9369e6469c",
   "metadata": {},
   "outputs": [],
   "source": [
    "#adding our visable layers \n"
   ]
  },
  {
   "cell_type": "markdown",
   "id": "62354cdf-609f-487d-be51-9ea306997a69",
   "metadata": {},
   "source": [
    "<a id='usecases'></a> \n",
    "### Use Case Examples"
   ]
  },
  {
   "cell_type": "markdown",
   "id": "9e5b04a9-b2bb-40ed-bb8c-9c75d3494c38",
   "metadata": {},
   "source": [
    "The Cacheu National Park Mangrove Forest in Guinea-Bissau is a park located on the Cacheu River. The forest is the largest compact mangrove envrionment on West Africa's coast. The forest has been the recipient of reforestation efforts beginning in 2017. Knowing this documented effort overlapped with Landsat 8 data inspired our group to investigate vegetation indices in order to calculate canopy coverage before and after restoration interventions. \n",
    "\n",
    "This analysis looks at the success of this specific restoration effort by visualizing vegetation indices in 2014 and 2019. This analysis will be useful for stakeholders in mangrove restoration and/or management projects. Understanding and measuring the health and growth of mangrove forests is important because of their storm-protection benefits to global coastlines. \n",
    "\n",
    "The code below utilizes the multispectral bands from Landsat 8 images over Cacheu National Park Mangrove Forest to calculate various vegetation indices for the mangrove forest. The Landsat 8 data for the visual and infared bands is lower resolution, with pixels at 30 meters x 30 meters. Because vegetation indices assume these 30 m x 30 m units are homogenous, the utilization of multiple indices can help to better measure mangrove canopy coverage accuartely. This is because 30 x 30 m areas have heterogenous coverage, including foliage, water, sand, and soil. \n",
    "\n",
    "We calculate multiple indices inspired by a 2017 paper published in Elsevier, titled \"A new approach for calculating mangrive camopy cover using Landsat 8 imagery,\" by Hesham Abd-El Monsef and Scot E. Smith. The authors calculate 7 indices to investigate mangrove canopy coverage. In addition to calculating the Normalized Differnece Vegetation Index (NDVI), we also calculate Normalized Difference Infared Index (NDII), and Normalized Difference Built-up Index (NDBI). \n",
    "\n",
    "The reason we utilized these indices is as follows: \n",
    "\n",
    "- **NDVI:** a standard measure of vegetation health that measures cholorphyll \n",
    "- **NDII:** a measure that's sensitive to changes in water storage and plant biomass\n",
    "- **NDBI:** a measure used to distinguish bare soil from vegetation "
   ]
  },
  {
   "cell_type": "markdown",
   "id": "ed2692c0-103d-4e88-9e1f-6e547e983e85",
   "metadata": {},
   "source": [
    "First we'll filter for the area of interest and create NDVI for 2014 and 2019, befpre and after restoration efforts. "
   ]
  },
  {
   "cell_type": "markdown",
   "id": "43ff8492-c6da-4450-a9d0-569f25c3b9bc",
   "metadata": {},
   "source": [
    "$$ NDVI = \\frac{NIR - red}{NIR + red} $$"
   ]
  },
  {
   "cell_type": "code",
   "execution_count": 43,
   "id": "502cc113-3604-45ce-af65-af113a0bad67",
   "metadata": {},
   "outputs": [],
   "source": [
    "#filter image collection using our point in Chacheu National Park Mangrove Forest\n"
   ]
  },
  {
   "cell_type": "code",
   "execution_count": 44,
   "id": "6cee3ff0-cd35-4404-ab7f-3726b8fb18fc",
   "metadata": {},
   "outputs": [],
   "source": [
    "# create function to calculate NDVI for a given input image\n",
    "\n",
    "\n",
    "\n",
    "# apply fuction to all images in our point of interest filter\n",
    "\n",
    "\n",
    "#create visable parameters for each band used in NDVI calculations\n"
   ]
  },
  {
   "cell_type": "code",
   "execution_count": 45,
   "id": "b604a5f3-6a0f-4d00-b418-a66d48b26b58",
   "metadata": {},
   "outputs": [],
   "source": [
    "#filter out the cloudy images over 20% cloud cover\n",
    "\n",
    "\n",
    "#filter for the time period 2014 \n",
    "\n",
    "#creating the basemap \n",
    "\n",
    "\n",
    "#add 2014 NDVI layer to map\n"
   ]
  },
  {
   "cell_type": "markdown",
   "id": "5b91c14f-0b4c-40eb-a064-833890275fc9",
   "metadata": {},
   "source": [
    "Next, we create a second layer. This one represents NDVI for 2019. "
   ]
  },
  {
   "cell_type": "code",
   "execution_count": 46,
   "id": "020197fa-9c1e-4986-872f-c6cb0832522b",
   "metadata": {},
   "outputs": [],
   "source": [
    "#filter for the time period 2019 and create a temporal average \n",
    "\n",
    "\n",
    "#add 2019 NDVI layer to map\n"
   ]
  },
  {
   "cell_type": "code",
   "execution_count": 47,
   "id": "a133df17-3633-4606-901b-063f2644e749",
   "metadata": {},
   "outputs": [
    {
     "data": {
      "application/vnd.jupyter.widget-view+json": {
       "model_id": "f8aebfe58a544518b8b47c3eb728b340",
       "version_major": 2,
       "version_minor": 0
      },
      "text/plain": [
       "Map(center=[12.1582165861, -16.283462202], controls=(WidgetControl(options=['position', 'transparent_bg'], wid…"
      ]
     },
     "metadata": {},
     "output_type": "display_data"
    }
   ],
   "source": [
    "#calling the NDVI map \n"
   ]
  },
  {
   "cell_type": "markdown",
   "id": "0f40b4bb-75ca-41ce-ae27-bd6ad290f16c",
   "metadata": {},
   "source": [
    "Next, we'll calculate NDII layers for the same two years:"
   ]
  },
  {
   "cell_type": "markdown",
   "id": "54fe9fe0-9840-4dee-a140-6a6d6d247f2e",
   "metadata": {},
   "source": [
    "$$NDII = \\frac{NIR_{B5} - MidIR{_{B6}}}{NIR_{B5} + MidIR{_{B6}}}$$"
   ]
  },
  {
   "cell_type": "code",
   "execution_count": null,
   "id": "54997176-af93-42bf-8bd7-e9b67c514cd4",
   "metadata": {},
   "outputs": [],
   "source": [
    "# create function to calculate NDII for a given input image\n",
    "def addNDII(image):\n",
    "    mir = image.select('B6')\n",
    "    nir = image.select('B5')\n",
    "    \n",
    "    ndii = (nir.subtract(mir)).divide((nir.add(mir))).rename('NDII')\n",
    "    \n",
    "    return image.addBands(ndii)\n",
    "\n",
    "# apply fuction to all images in our point of interest filter\n",
    "gdat_withndii = gdat_filt.map(addNDII) \n",
    "\n",
    "#create visable parameters for each band used in NDII calculations\n",
    "ndiiParams = {'bands': 'NDII',\n",
    "              'min': -1, \n",
    "              'max': 1, \n",
    "              'palette': ['blue', 'white', 'green']\n",
    "             }\n",
    "\n",
    "#filter out the cloudy images over 20% cloud cover\n",
    "dat_nocld_ndii = gdat_withndii.filter('CLOUD_COVER < 20')\n",
    "\n",
    "#filter for the time period 2014 and create a temporal average \n",
    "date_2014_ndii = dat_nocld_ndii.filter(ee.Filter.date('2014-01-01', '2014-12-31')).mean();\n",
    "\n",
    "#creating the basemap \n",
    "map_ndii = geemap.Map(center = [gb_lat, gb_lon], zoom = 12)\n",
    "\n",
    "#add 2014 NDII layer to map\n",
    "map_ndii.addLayer(date_2014_ndii, ndiiParams, \"2014\")\n",
    "\n",
    "#filter for the time period 2019 and create a temporal average \n",
    "date_2019_ndii = dat_nocld_ndii.filter(ee.Filter.date('2019-01-01', '2019-12-31')).mean();\n",
    "\n",
    "#add 2019 NDII layer to map\n",
    "map_ndii.addLayer(date_2019_ndii, ndiiParams, \"2019\")"
   ]
  },
  {
   "cell_type": "code",
   "execution_count": 35,
   "id": "89b8e753-df62-4b14-87fa-280bc8063742",
   "metadata": {},
   "outputs": [
    {
     "data": {
      "application/vnd.jupyter.widget-view+json": {
       "model_id": "007ee779343c4340afc1fe94172227ed",
       "version_major": 2,
       "version_minor": 0
      },
      "text/plain": [
       "Map(center=[12.1582165861, -16.283462202], controls=(WidgetControl(options=['position', 'transparent_bg'], wid…"
      ]
     },
     "metadata": {},
     "output_type": "display_data"
    }
   ],
   "source": [
    "#calling the NDII map\n",
    "map_ndii"
   ]
  },
  {
   "cell_type": "markdown",
   "id": "69f81d53-69ca-4e8f-a7f0-17d37e8138b7",
   "metadata": {},
   "source": [
    "Next, we'll calculate NDBI layers for the same two years:"
   ]
  },
  {
   "cell_type": "markdown",
   "id": "563a9e7f-d179-4ed0-b5bd-692b24d3946f",
   "metadata": {},
   "source": [
    "$$NDBI = \\frac{MidIR_{B6} - NIR}{MidIR_{B6} + NIR}$$"
   ]
  },
  {
   "cell_type": "code",
   "execution_count": 36,
   "id": "78ab16bb-1cbb-4b0f-a207-bd423edf08ce",
   "metadata": {},
   "outputs": [],
   "source": [
    "# create function to calculate NDBI for a given input image\n",
    "def addNDBI(image):\n",
    "    mir = image.select('B6')\n",
    "    nir = image.select('B5')\n",
    "    \n",
    "    ndbi = (mir.subtract(nir)).divide((mir.add(nir))).rename('NDBI')\n",
    "    \n",
    "    return image.addBands(ndbi)\n",
    "\n",
    "# apply fuction to all images in our point of interest filter\n",
    "gdat_withndbi = gdat_filt.map(addNDBI) \n",
    "\n",
    "#create visable parameters for each band used in NDBI calculations\n",
    "ndbiParams = {'bands': 'NDBI',\n",
    "              'min': -1, \n",
    "              'max': 1, \n",
    "              'palette': ['blue', 'white', 'green']\n",
    "             }\n",
    "\n",
    "#filter out the cloudy images over 20% cloud cover\n",
    "dat_nocld_ndbi = gdat_withndbi.filter('CLOUD_COVER < 20')\n",
    "\n",
    "#filter for the time period 2014 and create a temporal average \n",
    "date_2014_ndbi = dat_nocld_ndbi.filter(ee.Filter.date('2014-01-01', '2014-12-31')).mean();\n",
    "\n",
    "#creating the basemap \n",
    "map_ndbi = geemap.Map(center = [gb_lat, gb_lon], zoom = 12)\n",
    "\n",
    "#add 2014 NDBI layer to map\n",
    "map_ndbi.addLayer(date_2014_ndbi, ndbiParams, \"2014\")\n",
    "\n",
    "#filter for the time period 2019 and create a temporal average \n",
    "date_2019_ndbi = dat_nocld_ndbi.filter(ee.Filter.date('2019-01-01', '2019-12-31')).mean();\n",
    "\n",
    "#add 2019 NDBI layer to map\n",
    "map_ndbi.addLayer(date_2019_ndbi, ndbiParams, \"2019\")"
   ]
  },
  {
   "cell_type": "code",
   "execution_count": 37,
   "id": "0d015a95-4efd-4ca3-ae25-c4c909fb9885",
   "metadata": {},
   "outputs": [
    {
     "data": {
      "application/vnd.jupyter.widget-view+json": {
       "model_id": "1291e20671054e2487d6114ae89d3086",
       "version_major": 2,
       "version_minor": 0
      },
      "text/plain": [
       "Map(center=[12.1582165861, -16.283462202], controls=(WidgetControl(options=['position', 'transparent_bg'], wid…"
      ]
     },
     "metadata": {},
     "output_type": "display_data"
    }
   ],
   "source": [
    "#calling the NDBI map\n",
    "map_ndbi"
   ]
  },
  {
   "cell_type": "markdown",
   "id": "d536e7d0-6ae8-43c3-a482-735764b1c4e5",
   "metadata": {
    "tags": []
   },
   "source": [
    "<a id='future'></a> \n",
    "### Future analysis"
   ]
  },
  {
   "cell_type": "markdown",
   "id": "33acb0a2-3772-40c6-978a-b79f9c116b42",
   "metadata": {},
   "source": [
    "This project can be taken a step further by turning each image created into a rate of mangrove percent cover, and comparing layers before and after restoration. Mangrove planting often occurs in areas that are hard to survey, where recording accute and consistant coverage can be difficult. Using this method to calculate percent cover is both cost and time effective as no travel is nessisary and the images are free. Tracking mangorve percent cover can have large implications for both human and ecosystem health. It has been shown (reference) that mangroves protect the coastline from storm damage and storm surges, events that can cost millions of dollars in damages and take human lives. Healthy mangrove forests also protect the coast line from erosion and provide important habitat and nursery grounds for many species. \n",
    "\n",
    "By incorporating a multi-index method of calculating percent cover, nonprofits and orginazations can easily track the growth and decline of mangrove ecosystems and set clear deliverables for restoration projects. This method not only makes tracking growth much less resource intensive, but also enables more frequent growth tracking as it does not require field data collection, which can be sporadic."
   ]
  },
  {
   "cell_type": "markdown",
   "id": "c62c774b-8a7c-4f47-9c07-7f9823c48473",
   "metadata": {},
   "source": [
    "<a id='references'></a> \n",
    "### References\n",
    "\n",
    "1. \"A new approach for estimating mangrove canopy cover using Landsat 8 \": https://www.sciencedirect.com/science/article/pii/S0168169916303490\n",
    "2. \"Conserving Biodiversity of the Cacheu Mangroves National Park at Guinea Bissau\": https://www.wetlands.org/publications/conserving-biodiversity-cacheu-mangroves-national-park-guinea-bissau/\n",
    "3. \"Compare NDVI extracted from Landsat 8 imagery with that from Landsat 7 imagery\" http://citeseerx.ist.psu.edu/viewdoc/download?doi=10.1.1.949.9781&rep=rep1&type=pdf \n"
   ]
  }
 ],
 "metadata": {
  "kernelspec": {
   "display_name": "Python 3 (ipykernel)",
   "language": "python",
   "name": "python3"
  },
  "language_info": {
   "codemirror_mode": {
    "name": "ipython",
    "version": 3
   },
   "file_extension": ".py",
   "mimetype": "text/x-python",
   "name": "python",
   "nbconvert_exporter": "python",
   "pygments_lexer": "ipython3",
   "version": "3.9.7"
  }
 },
 "nbformat": 4,
 "nbformat_minor": 5
}
