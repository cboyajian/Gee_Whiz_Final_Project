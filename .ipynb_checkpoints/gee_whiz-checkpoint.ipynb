{
 "cells": [
  {
   "cell_type": "markdown",
   "id": "f313ac6a-89fd-4abd-a53a-f23d18b671a1",
   "metadata": {},
   "source": [
    "## Assignment 2: Learning About Datasets\n",
    "\n",
    "Allie Cole, Clarissa Boyajian, Scout Leonard"
   ]
  },
  {
   "cell_type": "code",
   "execution_count": 1,
   "id": "0df895d7-bccb-44af-88f3-6577a99199c5",
   "metadata": {},
   "outputs": [],
   "source": [
    "# Import packages\n",
    "import ee\n",
    "import geemap\n",
    "import pandas as pd\n",
    "import matplotlib.pyplot as plt\n",
    "import numpy as np"
   ]
  },
  {
   "cell_type": "code",
   "execution_count": 2,
   "id": "81edf6ab-9fbb-4cb8-9ae6-fc5c42104da9",
   "metadata": {},
   "outputs": [
    {
     "data": {
      "text/html": [
       "<p>To authorize access needed by Earth Engine, open the following\n",
       "        URL in a web browser and follow the instructions:</p>\n",
       "        <p><a href=https://accounts.google.com/o/oauth2/auth?client_id=517222506229-vsmmajv00ul0bs7p89v5m89qs8eb9359.apps.googleusercontent.com&scope=https%3A%2F%2Fwww.googleapis.com%2Fauth%2Fearthengine+https%3A%2F%2Fwww.googleapis.com%2Fauth%2Fdevstorage.full_control&redirect_uri=urn%3Aietf%3Awg%3Aoauth%3A2.0%3Aoob&response_type=code&code_challenge=Fj5UwOMjF_qVO7Apmzzq3-eGncx8EqK55BskVq8XtLU&code_challenge_method=S256>https://accounts.google.com/o/oauth2/auth?client_id=517222506229-vsmmajv00ul0bs7p89v5m89qs8eb9359.apps.googleusercontent.com&scope=https%3A%2F%2Fwww.googleapis.com%2Fauth%2Fearthengine+https%3A%2F%2Fwww.googleapis.com%2Fauth%2Fdevstorage.full_control&redirect_uri=urn%3Aietf%3Awg%3Aoauth%3A2.0%3Aoob&response_type=code&code_challenge=Fj5UwOMjF_qVO7Apmzzq3-eGncx8EqK55BskVq8XtLU&code_challenge_method=S256</a></p>\n",
       "        <p>The authorization workflow will generate a code, which you\n",
       "        should paste in the box below</p>\n",
       "        "
      ],
      "text/plain": [
       "<IPython.core.display.HTML object>"
      ]
     },
     "metadata": {},
     "output_type": "display_data"
    },
    {
     "name": "stdin",
     "output_type": "stream",
     "text": [
      "Enter verification code:  4/1AX4XfWhch0Q1M14atdjK5EWL3E_bOJ73IOyKxDdqhALMhy4nRUq2c7mP8Ks\n"
     ]
    },
    {
     "name": "stdout",
     "output_type": "stream",
     "text": [
      "\n",
      "Successfully saved authorization token.\n"
     ]
    }
   ],
   "source": [
    "ee.Authenticate()\n",
    "ee.Initialize()"
   ]
  },
  {
   "cell_type": "markdown",
   "id": "7b08c996-100b-4cd6-9e4b-6990286c321c",
   "metadata": {},
   "source": [
    "### 1.) Write code to load in the dataset \n",
    "\n",
    "The dataset we are interested in is Landsat8. We add the dataset in the code chunk below using the Google Earth Engine (GEE) API."
   ]
  },
  {
   "cell_type": "code",
   "execution_count": 3,
   "id": "749f0b2d-cd48-4dfa-b858-5f6c428f6ef6",
   "metadata": {},
   "outputs": [],
   "source": [
    "gdat = ee.ImageCollection(\"LANDSAT/LC08/C01/T1_SR\")"
   ]
  },
  {
   "cell_type": "markdown",
   "id": "a9b21725-da12-492a-80e9-1f87f8cf676f",
   "metadata": {},
   "source": [
    "Next, we create a test image from the first image in the Landsat8 dataset. We will use this to explore the features of the images in the collection. "
   ]
  },
  {
   "cell_type": "code",
   "execution_count": 5,
   "id": "0d41ec12-8241-4c8a-ab21-9ba128f3b57d",
   "metadata": {},
   "outputs": [],
   "source": [
    "# pull the first image in the collection \n",
    "testimg = gdat.first()"
   ]
  },
  {
   "cell_type": "code",
   "execution_count": 6,
   "id": "f3c5d627-8a43-4f55-a202-a8e664ae038d",
   "metadata": {},
   "outputs": [
    {
     "data": {
      "text/plain": [
       "\"['B1', 'B2', 'B3', 'B4', 'B5', 'B6', 'B7', 'B10', 'B11', 'sr_aerosol', 'pixel_qa', 'radsat_qa']\""
      ]
     },
     "execution_count": 6,
     "metadata": {},
     "output_type": "execute_result"
    }
   ],
   "source": [
    "#extract a list containing the names of the bands \n",
    "bands = testimg.bandNames()\n",
    "str(bands.getInfo())"
   ]
  },
  {
   "cell_type": "code",
   "execution_count": 7,
   "id": "39d623ff-f3ba-476d-a8f3-4191df181a1d",
   "metadata": {},
   "outputs": [],
   "source": [
    "#select mangrove region (Sundarabans, in Bangladesh) to explore Landsat8 data for\n",
    "\n",
    "#lat and lon for Sundarabans mangrove forest\n",
    "sundarbans_lon = 89\n",
    "sundarbans_lat = 21.37\n",
    "\n",
    "#create point of interest for Sundarabans \n",
    "sundarbans_poi = ee.Geometry.Point(sundarbans_lon, sundarbans_lat)\n",
    "scale = 1000   # scale in m"
   ]
  },
  {
   "cell_type": "code",
   "execution_count": 8,
   "id": "9056ac0c-f691-42e6-a843-997050fefdc8",
   "metadata": {},
   "outputs": [],
   "source": [
    "#explore a data feature of the Landsat images; we chose Band 2\n",
    "B2 = gdat.select('B2')\n",
    "sundarbans_B2 = B2.getRegion(sundarbans_poi, scale).getInfo()"
   ]
  },
  {
   "cell_type": "code",
   "execution_count": 9,
   "id": "63740530-bae4-4a28-bed7-80490620168b",
   "metadata": {},
   "outputs": [
    {
     "name": "stdout",
     "output_type": "stream",
     "text": [
      "                        0          1          2              3     4\n",
      "0                      id  longitude   latitude           time    B2\n",
      "1    LC08_138045_20130708  89.000587  21.366429  1373258003390  1091\n",
      "2    LC08_138045_20130724  89.000587  21.366429  1374640402070  1587\n",
      "3    LC08_138045_20130825  89.000587  21.366429  1377405206730  1102\n",
      "4    LC08_138045_20130910  89.000587  21.366429  1378787604620   198\n",
      "..                    ...        ...        ...            ...   ...\n",
      "156  LC08_138045_20210714  89.000587  21.366429  1626237078562  3196\n",
      "157  LC08_138045_20210815  89.000587  21.366429  1629001892732  3953\n",
      "158  LC08_138045_20210831  89.000587  21.366429  1630384297322  2219\n",
      "159  LC08_138045_20210916  89.000587  21.366429  1631766701206   951\n",
      "160  LC08_138045_20211002  89.000587  21.366429  1633149105920   550\n",
      "\n",
      "[161 rows x 5 columns]\n"
     ]
    }
   ],
   "source": [
    "#create a dataframe using Band 2 measurements for Sundarabans mangrove forest over time \n",
    "df = pd.DataFrame(sundarbans_B2)\n",
    "\n",
    "print(df)"
   ]
  },
  {
   "cell_type": "markdown",
   "id": "e5d29cd0-aa03-44e0-82e4-7cbf564b0aea",
   "metadata": {},
   "source": [
    "[Landsat 8](https://developers.google.com/earth-engine/datasets/catalog/landsat-8) data is accessible through GEE, and the data collection is supported jointly by NASA and the USGS. \n",
    "Landsat 8 data can be downloaded in many different formats depending on how you want to manipulate it. Various products offer varying combinations of bands. The data found in these products comes from USGS in the form of .TIFFs and .JPEGs. \n",
    "\n",
    "[Metadata](https://developers.google.com/earth-engine/datasets/catalog/LANDSAT_LC08_C01_T1_SR) on GEE describes how the data were collected (atmospherically corrected surface reflectance from the Landsat 8 OLI/TIRS sensors). It also describes the contents of the .TIFF and .JPEG images in the dataset: 5 visible and near-infared (VNIR) bands, 2 short-wave infared (SWIR), and 2 thermal infared (TIR) bands, with short descriptions about how these were processed. It includes links to USGS descriptions of band metadata. "
   ]
  },
  {
   "cell_type": "markdown",
   "id": "493607b1-8eae-4fcd-b018-d22f4c761824",
   "metadata": {},
   "source": [
    "### 2.) Investigate data quality\n",
    "\n",
    "Landsat 8 revisits a location every 8-16 days, which is at a much higher rate when compared to most other satellites. Additionally, Landsat 8 captures the multispectral bands necessary for vegetation indexes, such as Normalized Difference Vegetation Index (NDVI). The Landsat 8 resolution is 30 meters (visible, NIR, SWIR); 100 meters (thermal); and 15 meters (panchromatic). \n",
    "\n",
    "The frequent revisitation rate and free access makes this a good dataset for our purposes. The downside to this data is the lower resolution. This lower resolution impacts the ability to accurately calculate vegetation coverage percentages. Mangroves are not a homogeneous land cover type, however many analyses of mangroves (such as NDVI) treat each image as a single land cover type. A single image can contain mangroves, as well as sand, water, and other debris/detritus. \n",
    "\n",
    "One solution to this is to use mutliple indices in order to more accurately calculate the canopy coverage percentage of one type of vegetation without needing higher resolution images."
   ]
  },
  {
   "cell_type": "markdown",
   "id": "91550d29-6fde-469b-b53f-9be8bbfe82e1",
   "metadata": {},
   "source": [
    "### 3.) Consider appropriate use cases\n",
    "\n",
    "Landsat 8 is the best option for projects with limited financial resources or that are located in remote locations, as it is freely available and covers the globe. For projects with the ability, we would recommend that they pay for higher resolution imagery. For projects using Landsat 8, we would recommend using multiple indices in order to increase the accuracy of land coverage estimates. We will be using the 30m resolution images as those are the bands appropriate to our analysis. We will be calculating NDVI as well as Normalized Difference Infrared Index (NDII). \n",
    "\n",
    "\n"
   ]
  },
  {
   "cell_type": "code",
   "execution_count": 10,
   "id": "ea7c7abc-9e48-4191-8137-d7d1e6b66198",
   "metadata": {},
   "outputs": [],
   "source": [
    "#select the region: Cacheu National Park Mangrove Forest\n",
    "pt = ee.Geometry.Point(12.1582165861, -16.283462202)"
   ]
  },
  {
   "cell_type": "code",
   "execution_count": 11,
   "id": "fd6ca392-f806-46eb-a379-601a3b17d458",
   "metadata": {},
   "outputs": [],
   "source": [
    "#filter image collection using our point in Chacheu National Park Mangrove Forest\n",
    "gdat_filt = gdat.filterBounds(pt)"
   ]
  },
  {
   "cell_type": "code",
   "execution_count": 12,
   "id": "70e7d88c-2360-41ee-81a7-0bdb7eb919ab",
   "metadata": {},
   "outputs": [],
   "source": [
    "#creates a data structure for NDVI visualization parameters \n",
    "visParams = {'bands': ['B4', 'B3', 'B2'],\n",
    "             'min': 0,\n",
    "             'max': 0.3\n",
    "            }"
   ]
  },
  {
   "cell_type": "code",
   "execution_count": 13,
   "id": "a47a43b4-2253-4043-97bc-485fceb3144f",
   "metadata": {},
   "outputs": [
    {
     "data": {
      "application/vnd.jupyter.widget-view+json": {
       "model_id": "6a6d8c6c34a84838bc27604c6f529bdf",
       "version_major": 2,
       "version_minor": 0
      },
      "text/plain": [
       "Map(center=[12.1582165861, -16.283462202], controls=(WidgetControl(options=['position', 'transparent_bg'], wid…"
      ]
     },
     "metadata": {},
     "output_type": "display_data"
    }
   ],
   "source": [
    "map_ndvi = geemap.Map(center = [12.1582165861, -16.283462202], zoom = 12)\n",
    "map_ndvi"
   ]
  },
  {
   "cell_type": "code",
   "execution_count": 35,
   "id": "954264c1-8679-45ea-97c7-b9253f5fcb4c",
   "metadata": {},
   "outputs": [],
   "source": [
    "map_ndvi.addLayer(gdat_filt, visParams)"
   ]
  },
  {
   "cell_type": "code",
   "execution_count": 36,
   "id": "34799dcd-cdcb-4e06-88c4-493286e52b7f",
   "metadata": {},
   "outputs": [],
   "source": [
    "gdat_leastcloudy = gdat_filt.sort('CLOUD_COVER').first()"
   ]
  },
  {
   "cell_type": "code",
   "execution_count": 37,
   "id": "94a2489a-dfc8-46af-8caa-add867367dcd",
   "metadata": {},
   "outputs": [],
   "source": [
    "# Function to calculate NDVI for a given input image\n",
    "def addNDVI(image):\n",
    "    red = image.select('B4')\n",
    "    nir = image.select('B5')\n",
    "    \n",
    "    ndvi = (nir.subtract(red)).divide((nir.add(red))).rename('NDVI')\n",
    "    \n",
    "    return image.addBands(ndvi)"
   ]
  },
  {
   "cell_type": "code",
   "execution_count": 38,
   "id": "8c598224-1e15-4da2-a853-72812e73cd35",
   "metadata": {},
   "outputs": [],
   "source": [
    "gdat_withndvi = gdat_filt.map(addNDVI)"
   ]
  },
  {
   "cell_type": "code",
   "execution_count": 39,
   "id": "15eddfd8-3f98-4dee-8610-1a24c82d06f7",
   "metadata": {},
   "outputs": [],
   "source": [
    "ndviParams = {'bands': 'NDVI',\n",
    "              'min': -1, \n",
    "              'max': 1, \n",
    "              'palette': ['blue', 'white', 'green']\n",
    "             }\n",
    "\n",
    "map_ndvi.addLayer(gdat_withndvi, ndviParams, \"NDVI\")"
   ]
  },
  {
   "cell_type": "code",
   "execution_count": 46,
   "id": "163eea00-1103-4ffc-bebb-692484c52919",
   "metadata": {},
   "outputs": [],
   "source": [
    "# Use filter to extract all \"non-cloudy\" images: ones with less than 20% cloud cover\n",
    "dat_nocld=gdat_withndvi.filter('CLOUD_COVER < 0.2')"
   ]
  },
  {
   "cell_type": "code",
   "execution_count": 47,
   "id": "53ce0214-286b-44e9-b136-950d5e46f7e5",
   "metadata": {},
   "outputs": [],
   "source": [
    "#date filter\n",
    "date_2014=dat_nocld.filter(ee.Filter.date('2014-01-01', '2014-12-31')).mean();"
   ]
  },
  {
   "cell_type": "code",
   "execution_count": 48,
   "id": "46e1dc05-ba92-4376-b3c2-efb12d27a573",
   "metadata": {},
   "outputs": [],
   "source": [
    "map_ndvi.addLayer(date_2014, ndviParams, 'NDVI')\n"
   ]
  },
  {
   "cell_type": "code",
   "execution_count": null,
   "id": "353ecb7c-87a9-4ae8-92ed-4be2dd4eb846",
   "metadata": {},
   "outputs": [],
   "source": []
  },
  {
   "cell_type": "code",
   "execution_count": null,
   "id": "8e279a7d-6a41-4163-b643-fb30f95aae20",
   "metadata": {},
   "outputs": [],
   "source": []
  }
 ],
 "metadata": {
  "kernelspec": {
   "display_name": "Python 3 (ipykernel)",
   "language": "python",
   "name": "python3"
  },
  "language_info": {
   "codemirror_mode": {
    "name": "ipython",
    "version": 3
   },
   "file_extension": ".py",
   "mimetype": "text/x-python",
   "name": "python",
   "nbconvert_exporter": "python",
   "pygments_lexer": "ipython3",
   "version": "3.9.7"
  }
 },
 "nbformat": 4,
 "nbformat_minor": 5
}
